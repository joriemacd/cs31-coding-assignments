{
 "cells": [
  {
   "cell_type": "markdown",
   "id": "ea4e30f9",
   "metadata": {},
   "source": [
    "Longest Bounded Shortest Walk"
   ]
  },
  {
   "cell_type": "code",
   "execution_count": null,
   "id": "aa2f4bb0",
   "metadata": {},
   "outputs": [],
   "source": [
    "'''LBSW\n",
    "input: directed graph G = (V, E), source vertex s, parameter k, costs c on edges\n",
    "output: min cost walk w from s to v of length ≤k for all verticies\n",
    "'''\n",
    "\n",
    "# procedure\n",
    "def LBSW(G, s, k, c):\n",
    "    "
   ]
  }
 ],
 "metadata": {
  "kernelspec": {
   "display_name": "Python 3 (ipykernel)",
   "language": "python",
   "name": "python3"
  },
  "language_info": {
   "codemirror_mode": {
    "name": "ipython",
    "version": 3
   },
   "file_extension": ".py",
   "mimetype": "text/x-python",
   "name": "python",
   "nbconvert_exporter": "python",
   "pygments_lexer": "ipython3",
   "version": "3.9.13"
  }
 },
 "nbformat": 4,
 "nbformat_minor": 5
}
