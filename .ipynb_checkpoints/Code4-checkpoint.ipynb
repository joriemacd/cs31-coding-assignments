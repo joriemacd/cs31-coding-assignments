{
 "cells": [
  {
   "cell_type": "markdown",
   "id": "a9f296a0",
   "metadata": {},
   "source": [
    "Problem 1. (45 points)\n",
    "In this exercise, you are supposed to code DFS and related algorithms done in class. To help you, we are\n",
    "providing Python code for a graph class file graph_class.py which you can import. You should feel\n",
    "completely free to modify this code as you please. The operations that this gives you are:\n",
    "\n",
    "* init: G = graph() would create an empty graph\n",
    "* Read Edges: G.Read Edges(fname) would read directed edges from the file “fname” where eachline would contains endpoints of one directed edge separated by whitespace.\n",
    "* Other routines are sufficiently commented to be clear. Ask questions on Ed Discussion for clarification\n",
    "\n"
   ]
  },
  {
   "cell_type": "code",
   "execution_count": 84,
   "id": "c7ff863c",
   "metadata": {},
   "outputs": [],
   "source": [
    "# import in graph class\n",
    "from graph_class import graph"
   ]
  },
  {
   "cell_type": "markdown",
   "id": "3728d6b3",
   "metadata": {},
   "source": [
    "a. Implement DFS. Read the directed graph in the file graph2.txt and run DFS on it. When you\n",
    "implement DFS, you should traverse neighbors (the For-loop of DFS) in alphabetical order1. The\n",
    "order σ in which you run DFS should also be alphabetical. So in particular, you should start exploring\n",
    "from the letter a. Write down the order in which the vertices are visited. Do you agree? (10 points)"
   ]
  },
  {
   "cell_type": "code",
   "execution_count": 2,
   "id": "709ceac3",
   "metadata": {},
   "outputs": [],
   "source": [
    "'''read in graph from graph2.txt'''\n",
    "# initalize graph\n",
    "G = graph()\n",
    "# read in edges\n",
    "G.Read_Edges(\"graph2.txt\")\n",
    "G.Read_Vertex_Labels(\"graph2.txt\")"
   ]
  },
  {
   "cell_type": "code",
   "execution_count": 3,
   "id": "53d9c601",
   "metadata": {
    "scrolled": true
   },
   "outputs": [
    {
     "name": "stdout",
     "output_type": "stream",
     "text": [
      "13 20\n"
     ]
    }
   ],
   "source": [
    "# check to make sure has read in correctly\n",
    "print(G.num_vertices(),G.num_edges())"
   ]
  },
  {
   "cell_type": "code",
   "execution_count": 97,
   "id": "e523c15d",
   "metadata": {
    "scrolled": true
   },
   "outputs": [],
   "source": [
    "def DFS(G, ordering):\n",
    "    global vert_to_index; vert_to_index = {}\n",
    "    idx = 0\n",
    "    for vert in ordering:\n",
    "        vert_to_index[vert] = idx\n",
    "        idx += 1\n",
    "    \n",
    "    global visited; visited = set()\n",
    "    global F; F = graph()\n",
    "    global first; first = [0] * G.num_vertices()\n",
    "    global last; last = [0] * G.num_vertices()\n",
    "    global root; root = [0] * G.num_vertices()\n",
    "    global Fcomp; Fcomp = [0] * G.num_vertices()\n",
    "    global time; time = 0\n",
    "    global fcomp; fcomp = 0\n",
    "    global parent; parent = {}\n",
    "    \n",
    "    for vert in ordering:\n",
    "        if vert not in visited:\n",
    "            root[fcomp] = vert\n",
    "            fcomp += 1\n",
    "            DFS_on_vert(G, vert)\n",
    "    \n",
    "    return (last, fcomp, Fcomp, first, vert_to_index, parent)\n",
    "            \n",
    "def DFS_on_vert(G, v): \n",
    "    global vert_to_index; global visited; global F; global first; global last\n",
    "    global root; global Fcomp; global time; global fcomp; global parent\n",
    "\n",
    "    stack = []\n",
    "    \n",
    "    # In format (vertex, is ghost copy?)\n",
    "    stack.append((v, False))\n",
    "    \n",
    "    parent[v] = None\n",
    "        \n",
    "    while len(stack) > 0:\n",
    "        # Now we need to remove it from the parent stack\n",
    "        \n",
    "        curr = stack.pop()\n",
    "        x = curr[0]\n",
    "        \n",
    "        if x not in visited:\n",
    "            visited.add(x)\n",
    "            time += 1\n",
    "            first[vert_to_index[x]] = time\n",
    "            F.Add_Edge(parent[x], x)\n",
    "            Fcomp[vert_to_index[x]] = fcomp\n",
    "            stack.append((x, True))\n",
    "            \n",
    "            if x in G.adj_list and len(G.adj_list[x]) > 0:\n",
    "                curr_adj_list = sorted(G.adj_list[x], reverse=True)\n",
    "\n",
    "                for u in curr_adj_list:\n",
    "                    if u not in visited:  \n",
    "                        parent[u] = x\n",
    "\n",
    "                        stack.append((u, False))\n",
    "                    \n",
    "        else: \n",
    "            if curr[1] == True:\n",
    "                time += 1\n",
    "                last[vert_to_index[x]] = time\n",
    "            else:\n",
    "                continue"
   ]
  },
  {
   "cell_type": "code",
   "execution_count": 92,
   "id": "d6e6c567",
   "metadata": {},
   "outputs": [
    {
     "name": "stdout",
     "output_type": "stream",
     "text": [
      "['a', 'f', 'g', 'h', 'i', 'l', 'm', 'n', 'o', 'r', 's', 't', 'u']\n",
      "[1, 21, 3, 11, 9, 2, 13, 23, 4, 6, 14, 10, 22]\n",
      "[20, 26, 8, 12, 18, 19, 16, 24, 5, 7, 15, 17, 25]\n"
     ]
    }
   ],
   "source": [
    "'''read in graph from graph2.txt'''\n",
    "# initalize graph\n",
    "G = graph()\n",
    "# read in edges\n",
    "G.Read_Edges(\"graph2.txt\")\n",
    "G.Read_Vertex_Labels(\"graph2.txt\")\n",
    "\n",
    "order = sorted(G.vertices)\n",
    "print(order)\n",
    "DFS(G, order)\n",
    "\n",
    "global first\n",
    "print(first)\n",
    "\n",
    "global last\n",
    "print(last)"
   ]
  },
  {
   "cell_type": "markdown",
   "id": "0b0559fb",
   "metadata": {},
   "source": [
    "We ran this by hand, and we agree with our results."
   ]
  },
  {
   "cell_type": "markdown",
   "id": "2e9a7c97",
   "metadata": {},
   "source": [
    "b. Using DFS routine, implement the O(n + m) time algorithm which detects whether a graph has a\n",
    "cycle or not, and if so returns the cycle. Read the directed graph in the file graph3.txt and run\n",
    "your code on it. Write down what you get. (10 points)\n",
    "\n"
   ]
  },
  {
   "cell_type": "code",
   "execution_count": 132,
   "id": "26953229",
   "metadata": {},
   "outputs": [],
   "source": [
    "### DFS is a subroutine for this\n",
    "\n",
    "def check_for_cycle(G):\n",
    "    order = G.vertices\n",
    "    res = DFS(G, order)\n",
    "    last = res[0]\n",
    "    first = res[3]\n",
    "    vert_to_index = res[4]\n",
    "    \n",
    "    for u in G.adj_list:\n",
    "        for v in G.adj_list[u]:\n",
    "            # We have edge (u,v)\n",
    "            # If first[v] < first[u] <last[u] < first[v]\n",
    "            if first[vert_to_index[v]] < first[vert_to_index[u]] and last[vert_to_index[u]] < last[vert_to_index[v]]:\n",
    "                # Recover cycle\n",
    "                # get order of vertices with v as the source\n",
    "                # recover path from v to u and add (u,v)\n",
    "                order = list(G.vertices)\n",
    "                for i in range(len(order)):\n",
    "                    if order[i] == v:\n",
    "                        temp = order[0]\n",
    "                        order[0] = order[i]\n",
    "                        order[i] = temp\n",
    "                        break;\n",
    "                \n",
    "                res2 = DFS(G, order)\n",
    "                parent = res[5]\n",
    "                vert_to_index = res2[4]\n",
    "                \n",
    "                curr = u\n",
    "                \n",
    "                cycle = []\n",
    "                \n",
    "                while curr != v:\n",
    "                    cycle = [curr] + cycle\n",
    "                    print(\"Taking edge: (\" + str(parent[curr]) + \", \"+ str(curr) + \")\")\n",
    "                    curr = parent[curr]\n",
    "                    print(cycle)\n",
    "                    \n",
    "                cycle = [v] + cycle\n",
    "                cycle = [u] + cycle\n",
    "                \n",
    "                \n",
    "                return True, cycle\n",
    "    \n",
    "    return False, None"
   ]
  },
  {
   "cell_type": "code",
   "execution_count": 133,
   "id": "4b62500a",
   "metadata": {},
   "outputs": [
    {
     "name": "stdout",
     "output_type": "stream",
     "text": [
      "Taking edge: (i, a)\n",
      "['a']\n",
      "Taking edge: (l, i)\n",
      "['i', 'a']\n",
      "(True, ['a', 'l', 'i', 'a'])\n"
     ]
    }
   ],
   "source": [
    "# initalize graph\n",
    "G = graph()\n",
    "# read in edges\n",
    "G.Read_Edges(\"graph2.txt\")\n",
    "G.Read_Vertex_Labels(\"graph2.txt\")\n",
    "\n",
    "print(check_for_cycle(G))\n",
    "\n",
    "# initalize graph\n",
    "dag = graph()\n",
    "# read in edges\n",
    "dag.Read_Edges(\"dag.txt\")\n",
    "dag.Read_Vertex_Labels(\"dag.txt\")\n",
    "\n",
    "# check_for_cycle(dag)\n"
   ]
  },
  {
   "cell_type": "markdown",
   "id": "383b8be8",
   "metadata": {},
   "source": [
    "c. Implement the algorithm to find strongly connected components in a directed graph. For each of\n",
    "the following graphs, return the (a) number of strongly connected components, and (b) the number\n",
    "of vertices in the SCC in the one with the maximum number of vertices, and (c) how many seconds\n",
    "it took to run your code. Run it on a toy example to see if it’s running correctly. For instance, on\n",
    "graph2.txt, the number of SCCs are 7 and the largest one 5 vertices.\n",
    "You may not be able to run on the second graph if you use the recursive implementation of DFS. The\n",
    "10 points are for the stack implementation\n",
    "\n",
    "* epinions.txt (has 130K nodes and 840K edges) (5 points)\n",
    "* googlemaps.txt (has 2M nodes and 2.8M edges) (10 points)"
   ]
  },
  {
   "cell_type": "code",
   "execution_count": 57,
   "id": "f63038e8",
   "metadata": {},
   "outputs": [],
   "source": [
    "'''Reverses all the edges of the graph as subroutine '''\n",
    "\n",
    "def ReverseEdges(G):\n",
    "    # initalize empty graph to be gprime\n",
    "    Gprime = graph()\n",
    "    for v in G.vertices:\n",
    "        for u in G.adj_list[v]:\n",
    "            Gprime.Add_Edge(u, v)\n",
    "    return Gprime"
   ]
  },
  {
   "cell_type": "code",
   "execution_count": 58,
   "id": "8af2b3ff",
   "metadata": {},
   "outputs": [],
   "source": [
    "''' Subroutine to get the decreasing order of last[v]'s '''\n",
    "def DecOrder(last, order):\n",
    "    enumerated = sorted(enumerate(last), key=lambda k: k[1], reverse=True)\n",
    "    \n",
    "    indexes = []\n",
    "    pi = []\n",
    "    for i in enumerated:\n",
    "        indexes.append(i[0])\n",
    "    for j in indexes:\n",
    "        pi.append(order[j])\n",
    "    return pi"
   ]
  },
  {
   "cell_type": "code",
   "execution_count": 72,
   "id": "c8ef4ab9",
   "metadata": {},
   "outputs": [],
   "source": [
    "import time as real_time"
   ]
  },
  {
   "cell_type": "code",
   "execution_count": 77,
   "id": "85ec5b27",
   "metadata": {},
   "outputs": [],
   "source": [
    "'''Returns strongly connected components of G,\n",
    "in topological order of G^SCC'''\n",
    "def StronConnComp(G):\n",
    "    start_time = real_time.time()\n",
    "    # run DFS on G to get the last for every vertex\n",
    "    last = DFS(G, list(G.vertices))[0] ### CHANGE SO THAT ACCESSES LAST VALUE\n",
    "    # get the decreasing order of last[v]'s\n",
    "    pi = DecOrder(last, list(G.vertices))\n",
    "    # obtain G_rev\n",
    "    GRev = ReverseEdges(G)\n",
    "    # run DFS on GRev in the order of what is connected\n",
    "    res = DFS(GRev, pi)\n",
    "    SCC = res[1]\n",
    "    FComp = res[2]\n",
    "    print(\"We have \" + str(SCC) + \" connected components\")\n",
    "    \n",
    "    start = 0\n",
    "    end = 0\n",
    "    biggest = 1\n",
    "    \n",
    "    while end < len(FComp):\n",
    "        while end < len(FComp) and FComp[start] == FComp[end]:\n",
    "            end += 1\n",
    "            # print(\"Curr window: \" + str(FComp[start:end]))\n",
    "        biggest = max(biggest, end-start)\n",
    "        start = end\n",
    "    \n",
    "    print(\"We have \" + str(biggest) + \" elements in our largest SCC.\")\n",
    "    end_time = real_time.time()\n",
    "    tot_time = end_time - start_time\n",
    "    print(\"It took \" + str(tot_time) + \" seconds to get these results.\")"
   ]
  },
  {
   "cell_type": "code",
   "execution_count": 85,
   "id": "d02e23ed",
   "metadata": {},
   "outputs": [
    {
     "name": "stdout",
     "output_type": "stream",
     "text": [
      "Epinions test\n",
      "Error: Vertex not in Graph\n",
      "We have 88361 connected components\n",
      "We have 31 elements in our largest SCC.\n",
      "It took 4.793535947799683 seconds to get these results.\n"
     ]
    }
   ],
   "source": [
    "'''read in graph from graph2.txt'''\n",
    "# initalize graph\n",
    "print(\"Epinions test\")\n",
    "G = graph()\n",
    "# read in edges\n",
    "G.Read_Edges(\"epinions.txt\")\n",
    "G.Read_Vertex_Labels(\"epinions.txt\")\n",
    "StronConnComp(G)"
   ]
  },
  {
   "cell_type": "code",
   "execution_count": 81,
   "id": "9e138d76",
   "metadata": {},
   "outputs": [
    {
     "name": "stdout",
     "output_type": "stream",
     "text": [
      "Google Maps test\n",
      "We have 2638 connected components\n",
      "We have 1957027 elements in our largest SCC.\n",
      "It took 56.1551148891449 seconds to get these results.\n"
     ]
    }
   ],
   "source": [
    "'''read in graph from graph2.txt'''\n",
    "# initalize graph\n",
    "print(\"Google Maps test\")\n",
    "G = graph()\n",
    "# read in edges\n",
    "G.Read_Edges(\"googlemaps.txt\")\n",
    "G.Read_Vertex_Labels(\"googlemaps.txt\")\n",
    "StronConnComp(G)"
   ]
  },
  {
   "cell_type": "markdown",
   "id": "c4fa9aae",
   "metadata": {},
   "source": [
    "d. Implement a subroutine which takes a directed graph G (not necessarily acyclic) as input and finds\n",
    "as long a directed path as it can. Also implement a subroutine check_path(G,p) which takes\n",
    "a graph G and a list p and returns TRUE if p is indeed a path in G: so, all entries of p are vertices,\n",
    "nothing is repeated in p, and adjacent vertices form edges. This will let you check if the path you\n",
    "return is indeed a path in the graphs or not.\n",
    "In the iPython/pdf file you must first clearly and succinctly describe the algorithm you will be using\n",
    "to implement the above longest path routine.\n",
    "\n",
    "Next, read the directed graphs in the files challenge1.txt and challenge2.txt and for each\n",
    "of them write (a) what is the length of the path returned by your algorithm, (b) did check_path\n",
    "certify this path, and (c) how long (in seconds) did your code take to do so. Furthermore, in your code\n",
    "you also have to write what your paths are as a comment (so that the graders can check by running\n",
    "check_path).\n",
    "\n",
    "If there is a team which beats every other team in both graphs, then they get a +2 points. (10 points)"
   ]
  },
  {
   "cell_type": "code",
   "execution_count": null,
   "id": "d7e3379f",
   "metadata": {},
   "outputs": [],
   "source": [
    "''' takes graph G and list p and returns TRUE if p is a path in G\n",
    "input: graph G, array p[1:n] where n is number of verticies in the path, and there is an edge\n",
    "from all verticies {n-1, n}\n",
    "'''\n",
    "\n",
    "def check_path(G, p):\n",
    "    # initalize counter to store location in array\n",
    "    counter = 0\n",
    "    # initalize empty set of vertices that have been \"seen\"\n",
    "    A = []\n",
    "    # go through all vertices in the path\n",
    "    for i in p:\n",
    "        # make sure nothing repeated; if vertex in A, has already been seen and is duplicate\n",
    "        if i in A:\n",
    "            return False\n",
    "        # check to see that it is a vertex in graph\n",
    "        if not (G.isVertex(i)):\n",
    "            return False\n",
    "        # check that the graph contains a vertex to the right\n",
    "        # unless it is the last one\n",
    "        # if we are not looking at the last item in our path vertex array\n",
    "        if not counter == len(p)-1:\n",
    "            # check if there is an edge from our vertex to the vertex to the right of it\n",
    "            # if there is not, return false\n",
    "            if not (G.isEdge(i, p[counter+1])):\n",
    "                return False\n",
    "        \n",
    "        A.append(i)\n",
    "        counter = counter + 1\n",
    "    return True"
   ]
  },
  {
   "cell_type": "code",
   "execution_count": null,
   "id": "e4c2a5e2",
   "metadata": {},
   "outputs": [],
   "source": []
  }
 ],
 "metadata": {
  "kernelspec": {
   "display_name": "Python 3 (ipykernel)",
   "language": "python",
   "name": "python3"
  },
  "language_info": {
   "codemirror_mode": {
    "name": "ipython",
    "version": 3
   },
   "file_extension": ".py",
   "mimetype": "text/x-python",
   "name": "python",
   "nbconvert_exporter": "python",
   "pygments_lexer": "ipython3",
   "version": "3.9.7"
  }
 },
 "nbformat": 4,
 "nbformat_minor": 5
}
