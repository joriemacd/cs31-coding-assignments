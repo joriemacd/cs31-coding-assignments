{
 "cells": [
  {
   "cell_type": "markdown",
   "id": "a9f296a0",
   "metadata": {},
   "source": [
    "Problem 1. (45 points)\n",
    "In this exercise, you are supposed to code DFS and related algorithms done in class. To help you, we are\n",
    "providing Python code for a graph class file graph_class.py which you can import. You should feel\n",
    "completely free to modify this code as you please. The operations that this gives you are:\n",
    "\n",
    "* init: G = graph() would create an empty graph\n",
    "* Read Edges: G.Read Edges(fname) would read directed edges from the file “fname” where eachline would contains endpoints of one directed edge separated by whitespace.\n",
    "* Other routines are sufficiently commented to be clear. Ask questions on Ed Discussion for clarification\n",
    "\n"
   ]
  },
  {
   "cell_type": "code",
   "execution_count": 4,
   "id": "c7ff863c",
   "metadata": {},
   "outputs": [],
   "source": [
    "# import in graph class\n",
    "from graph_class import graph"
   ]
  },
  {
   "cell_type": "markdown",
   "id": "3728d6b3",
   "metadata": {},
   "source": [
    "a. Implement DFS. Read the directed graph in the file graph2.txt and run DFS on it. When you\n",
    "implement DFS, you should traverse neighbors (the For-loop of DFS) in alphabetical order1. The\n",
    "order σ in which you run DFS should also be alphabetical. So in particular, you should start exploring\n",
    "from the letter a. Write down the order in which the vertices are visited. Do you agree? (10 points)"
   ]
  },
  {
   "cell_type": "code",
   "execution_count": 5,
   "id": "709ceac3",
   "metadata": {},
   "outputs": [],
   "source": [
    "'''read in graph from graph2.txt'''\n",
    "# initalize graph\n",
    "G = graph()\n",
    "# read in edges\n",
    "G.Read_Edges(\"graph2.txt\")\n",
    "G.Read_Vertex_Labels(\"graph2.txt\")"
   ]
  },
  {
   "cell_type": "code",
   "execution_count": 6,
   "id": "53d9c601",
   "metadata": {
    "scrolled": true
   },
   "outputs": [
    {
     "name": "stdout",
     "output_type": "stream",
     "text": [
      "13 20\n"
     ]
    }
   ],
   "source": [
    "# check to make sure has read in correctly\n",
    "print(G.num_vertices(),G.num_edges())"
   ]
  },
  {
   "cell_type": "code",
   "execution_count": 11,
   "id": "e523c15d",
   "metadata": {
    "scrolled": true
   },
   "outputs": [],
   "source": [
    "def DFS(G, ordering):\n",
    "    global vert_to_index; vert_to_index = {}\n",
    "    idx = 0\n",
    "    for vert in G.vertices:\n",
    "        vert_to_index[vert] = idx\n",
    "        idx += 1\n",
    "    \n",
    "    global visited; visited = set()\n",
    "    global F; F = graph()\n",
    "    global first; first = [0] * G.num_vertices()\n",
    "    global last; last = [0] * G.num_vertices()\n",
    "    global root; root = [0] * G.num_vertices()\n",
    "    global Fcomp; Fcomp = [0] * G.num_vertices()\n",
    "    global time; time = 0\n",
    "    global fcomp; fcomp = 0\n",
    "    \n",
    "    for vert in ordering:\n",
    "        if vert not in visited:\n",
    "            root[fcomp] = vert\n",
    "            fcomp += 1\n",
    "            DFS_on_vert(G, vert)\n",
    "    \n",
    "    return last\n",
    "\n",
    "            \n",
    "def DFS_on_vert(G, v): \n",
    "    global vert_to_index; global visited; global F; global first; global last\n",
    "    global root; global Fcomp; global time; global fcomp\n",
    "\n",
    "    stack = []\n",
    "    \n",
    "    # In format (vertex, is ghost copy?)\n",
    "    stack.append((v, False))\n",
    "    \n",
    "    parent = {}\n",
    "    parent[v] = None\n",
    "        \n",
    "    while len(stack) > 0:\n",
    "        # Now we need to remove it from the parent stack\n",
    "        \n",
    "        curr = stack.pop()\n",
    "        x = curr[0]\n",
    "        \n",
    "        if x not in visited:\n",
    "            visited.add(x)\n",
    "            F.Add_Edge(parent[x], x)\n",
    "            Fcomp[vert_to_index[x]] = fcomp\n",
    "            stack.append((x, True))\n",
    "        \n",
    "            if len(G.adj_list[x]) > 0:\n",
    "                curr_adj_list = sorted(G.adj_list[x], reverse=True)\n",
    "\n",
    "                for u in curr_adj_list:\n",
    "                    if u not in visited:  \n",
    "                        parent[u] = x\n",
    "\n",
    "                        stack.append((u, False))\n",
    "                    \n",
    "        else: \n",
    "            if curr[1] == True:\n",
    "                time += 1\n",
    "                last[vert_to_index[x]] = time\n",
    "            else:\n",
    "                continue"
   ]
  },
  {
   "cell_type": "code",
   "execution_count": 12,
   "id": "9f7b0e65",
   "metadata": {},
   "outputs": [
    {
     "name": "stdout",
     "output_type": "stream",
     "text": [
      "[1, 13, 6, 8, 11, 3, 10, 12, 7, 4, 5, 9, 2]\n"
     ]
    }
   ],
   "source": [
    "'''read in graph from graph2.txt'''\n",
    "# initalize graph\n",
    "G = graph()\n",
    "# read in edges\n",
    "G.Read_Edges(\"graph2.txt\")\n",
    "G.Read_Vertex_Labels(\"graph2.txt\")\n",
    "\n",
    "order = sorted(G.vertices)\n",
    "DFS(G, order)\n",
    "global last\n",
    "print(last)"
   ]
  },
  {
   "cell_type": "markdown",
   "id": "2e9a7c97",
   "metadata": {},
   "source": [
    "b. Using DFS routine, implement the O(n + m) time algorithm which detects whether a graph has a\n",
    "cycle or not, and if so returns the cycle. Read the directed graph in the file graph3.txt and run\n",
    "your code on it. Write down what you get. (10 points)\n",
    "\n"
   ]
  },
  {
   "cell_type": "code",
   "execution_count": null,
   "id": "26953229",
   "metadata": {},
   "outputs": [],
   "source": [
    "### DFS is a subroutine for this"
   ]
  },
  {
   "cell_type": "markdown",
   "id": "383b8be8",
   "metadata": {},
   "source": [
    "c. Implement the algorithm to find strongly connected components in a directed graph. For each of\n",
    "the following graphs, return the (a) number of strongly connected components, and (b) the number\n",
    "of vertices in the SCC in the one with the maximum number of vertices, and (c) how many seconds\n",
    "it took to run your code. Run it on a toy example to see if it’s running correctly. For instance, on\n",
    "graph2.txt, the number of SCCs are 7 and the largest one 5 vertices.\n",
    "You may not be able to run on the second graph if you use the recursive implementation of DFS. The\n",
    "10 points are for the stack implementation\n",
    "\n",
    "* epinions.txt (has 130K nodes and 840K edges) (5 points)\n",
    "* googlemaps.txt (has 2M nodes and 2.8M edges) (10 points)"
   ]
  },
  {
   "cell_type": "code",
   "execution_count": 45,
   "id": "f63038e8",
   "metadata": {},
   "outputs": [],
   "source": [
    "'''Reverses all the edges of the graph as subroutine '''\n",
    "\n",
    "def ReverseEdges(G):\n",
    "    # initalize empty graph to be gprime\n",
    "    Gprime = graph()\n",
    "    for v in G.vertices:\n",
    "        for u in G.adj_list[v]:\n",
    "            Gprime.Add_Edge(u, v)\n",
    "    return Gprime"
   ]
  },
  {
   "cell_type": "code",
   "execution_count": 89,
   "id": "8af2b3ff",
   "metadata": {},
   "outputs": [],
   "source": [
    "''' Subroutine to get the decreasing order of last[v]'s '''\n",
    "def DecOrder(last):\n",
    "    enumerated = sorted(enumerate(LAST), key=lambda k: k[1], reverse=True)\n",
    "    pi = []\n",
    "    for i in enumerated:\n",
    "        pi.append(i[0])\n",
    "    return pi"
   ]
  },
  {
   "cell_type": "code",
   "execution_count": 90,
   "id": "a4f954a9",
   "metadata": {},
   "outputs": [
    {
     "data": {
      "text/plain": [
       "[3, 0, 2, 1, 5, 4]"
      ]
     },
     "execution_count": 90,
     "metadata": {},
     "output_type": "execute_result"
    }
   ],
   "source": [
    "last = [7, 3, 6, 9, 1, 3]\n",
    "DecOrder(last)"
   ]
  },
  {
   "cell_type": "code",
   "execution_count": null,
   "id": "85ec5b27",
   "metadata": {},
   "outputs": [],
   "source": [
    "'''Returns strongly connected components of G,\n",
    "in topological order of G^SCC'''\n",
    "def StronConnComp(G):\n",
    "    # run DFS on G to get the last for every vertex\n",
    "    last = DFS(G) ### CHANGE SO THAT ACCESSES LAST VALUE\n",
    "    # get the decreasing order of last[v]'s\n",
    "    pi = DecOrder(last)\n",
    "    # obtain G_rev\n",
    "    GRev = ReverseEdges(G)\n",
    "    # run DFS on GRev in the order of what is connected\n",
    "    DFS(GRev, pi)\n",
    "    \n",
    "    "
   ]
  },
  {
   "cell_type": "markdown",
   "id": "c4fa9aae",
   "metadata": {},
   "source": [
    "d. Implement a subroutine which takes a directed graph G (not necessarily acyclic) as input and finds\n",
    "as long a directed path as it can. Also implement a subroutine check_path(G,p) which takes\n",
    "a graph G and a list p and returns TRUE if p is indeed a path in G: so, all entries of p are vertices,\n",
    "nothing is repeated in p, and adjacent vertices form edges. This will let you check if the path you\n",
    "return is indeed a path in the graphs or not.\n",
    "In the iPython/pdf file you must first clearly and succinctly describe the algorithm you will be using\n",
    "to implement the above longest path routine.\n",
    "\n",
    "Next, read the directed graphs in the files challenge1.txt and challenge2.txt and for each\n",
    "of them write (a) what is the length of the path returned by your algorithm, (b) did check_path\n",
    "certify this path, and (c) how long (in seconds) did your code take to do so. Furthermore, in your code\n",
    "you also have to write what your paths are as a comment (so that the graders can check by running\n",
    "check_path).\n",
    "\n",
    "If there is a team which beats every other team in both graphs, then they get a +2 points. (10 points)"
   ]
  },
  {
   "cell_type": "code",
   "execution_count": null,
   "id": "4cd800cf",
   "metadata": {},
   "outputs": [],
   "source": [
    "print(\"Hello world\")"
   ]
  },
  {
   "cell_type": "code",
   "execution_count": 75,
   "id": "d7e3379f",
   "metadata": {},
   "outputs": [],
   "source": [
    "''' takes graph G and list p and returns TRUE if p is a path in G\n",
    "input: graph G, array p[1:n] where n is number of verticies in the path, and there is an edge\n",
    "from all verticies {n-1, n}\n",
    "'''\n",
    "\n",
    "\n",
    "def check_path(G, p):\n",
    "    # initalize counter to store location in array\n",
    "    counter = 0\n",
    "    # initalize empty set of vertices that have been \"seen\"\n",
    "    A = []\n",
    "    # go through all vertices in the path\n",
    "    for i in p:\n",
    "        # make sure nothing repeated; if vertex in A, has already been seen and is duplicate\n",
    "        if i in A:\n",
    "            return False\n",
    "        # check to see that it is a vertex in graph\n",
    "        if not (G.isVertex(i)):\n",
    "            return False\n",
    "        # check that the graph contains a vertex to the right\n",
    "        # unless it is the last one\n",
    "        # if we are not looking at the last item in our path vertex array\n",
    "        if not counter == len(p)-1:\n",
    "            # check if there is an edge from our vertex to the vertex to the right of it\n",
    "            # if there is not, return false\n",
    "            if not (G.isEdge(i, p[counter+1])):\n",
    "                return False\n",
    "        \n",
    "        A.append(i)\n",
    "        counter = counter + 1\n",
    "    return True"
   ]
  }
 ],
 "metadata": {
  "kernelspec": {
   "display_name": "Python 3 (ipykernel)",
   "language": "python",
   "name": "python3"
  },
  "language_info": {
   "codemirror_mode": {
    "name": "ipython",
    "version": 3
   },
   "file_extension": ".py",
   "mimetype": "text/x-python",
   "name": "python",
   "nbconvert_exporter": "python",
   "pygments_lexer": "ipython3",
   "version": "3.9.7"
  }
 },
 "nbformat": 4,
 "nbformat_minor": 5
}
