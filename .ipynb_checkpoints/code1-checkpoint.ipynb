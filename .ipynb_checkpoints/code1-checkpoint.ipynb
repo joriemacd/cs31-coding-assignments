{
 "cells": [
  {
   "cell_type": "markdown",
   "id": "306d5821",
   "metadata": {},
   "source": [
    "## Problem 1. (15 points)\n",
    "Implement the DIVIDE algorithm in the Lecture 3 module with the following changes.\n",
    "\n",
    "Your code takes input the two numbers in decimal notation instead of the binary notation. DONE\n",
    "You are going to calculate your “running time” as follows: any time your code adds or subtracts two numbers a and b, it costs max(Na, Nb) where Na and Nb are the number of digits in a and b.\n",
    "However, when an even number is incremented by 1, in that case the “running time” is only 1 (even if the even number has many digits).\n",
    "Multiplying by 2, or dividing by 2 and taking floors, is not to be counted in your “running time”.\n",
    "You should output, along with the quotient and the remainder, the total “running time” of your code.\n",
    "To give an example, if we call DIVIDE(5, 2) it calls DIVIDE(2, 2) which returns (1, 0), which becomes (2,0) in the call of DIVIDE, and since 5 is odd, we increment it to (2,1). The final increment step costs 1-unit, and this is the total time. As another example, if you call DIVIDE(21, 15) it calls DIVIDE (10, 15) which returns (0, 10); this becomes (0, 20) upon doubling, and since 21 is odd, we increment it to (0, 21). This increment costs 1 unit. 21 > 15, thus, we subtract 21 − 15 to get 6. This subtraction costs 2 units since both 21 and 15 are 2 digits. And, the quotient is incremented, and this costs another 1 unit of time. Thus, the final answer is (1, 6) and the total time is 1 + 2 + 1 = 4 units. What is the answer when run with (30294982, 2124234)?"
   ]
  },
  {
   "cell_type": "code",
   "execution_count": 2,
   "id": "67fbb734",
   "metadata": {},
   "outputs": [],
   "source": [
    "'''\n",
    "procedure DIVIDE (x, y):\n",
    "takes numbers in decimal notation instead of binary notation!!!\n",
    "procedure divide where x is the number being divided and y is the divisor\n",
    "returns quotient, remainder, and total \"runtime\"\n",
    "each time it adds or subtracts two numbers a b, it costs max(Na, Nb) <-- Na, Nb = # digits in a, b\n",
    "'''\n",
    "\n",
    "import math\n",
    "\n",
    "# rt -- runtime variable stores each subcomponent of the runtime -- when incrementing, should do a plus equals so\n",
    "# it works recursively\n",
    "# TODO -- explain inputs/outputs for function\n",
    "# TODO -- preconditions and postconditions\n",
    "\n",
    "# input x = dividend, input x = the divisor, input rt = the run time, with default value 0\n",
    "\n",
    "def divide(x, y, rt = 0):\n",
    "    # base case 1 -- if divisor is less than dividend, return quotient = 0 and the remainder, i.e., the dividend.\n",
    "    if x < y :\n",
    "        return (0, x, rt)\n",
    "    # base case 2 -- if number is equal to divisor, return quotient = 1 and the remainder = 0\n",
    "    if x == y : \n",
    "        return (1, 0, rt)\n",
    "    # we find x2\n",
    "    x2 = math.floor(x/2)\n",
    "    # recursive call\n",
    "    q2, r2, rt = divide(x2, y)\n",
    "    # set r and q to two times the remainder and quotient returned from recursive call\n",
    "    q = 2 * q2\n",
    "    r = 2 * r2\n",
    "    if (x % 2 != 0) :\n",
    "        # TODO -- this is an uneven number\n",
    "        # when an even number is incremented by 1, the \"runtime\" is 1\n",
    "        r = r + 1\n",
    "        #increment up runtime by 1\n",
    "        rt += 1\n",
    "    if r >= y :\n",
    "        # increment runtime by max of number of digits in numbers being combined\n",
    "        q = q + 1\n",
    "        # q will always be greater or equal because we check the basecases\n",
    "        rt += len(str(q))\n",
    "        # increment runtime by max of number of digits in numbers being subtracted\n",
    "        r = r - y\n",
    "        rt += max(len(str(r)), len(str(y)))\n",
    "    return (q, r, rt)"
   ]
  },
  {
   "cell_type": "markdown",
   "id": "80305b43",
   "metadata": {},
   "source": [
    "### What is the answer when run with (30294982, 2124234)?"
   ]
  },
  {
   "cell_type": "code",
   "execution_count": 3,
   "id": "88bc9b84",
   "metadata": {},
   "outputs": [
    {
     "data": {
      "text/plain": [
       "(14, 555706, 26)"
      ]
     },
     "execution_count": 3,
     "metadata": {},
     "output_type": "execute_result"
    }
   ],
   "source": [
    "divide(30294982, 2124234)"
   ]
  },
  {
   "cell_type": "markdown",
   "id": "7d90bf71",
   "metadata": {},
   "source": [
    "So, the answer is **26.**"
   ]
  },
  {
   "cell_type": "markdown",
   "id": "3bd89837",
   "metadata": {},
   "source": [
    "#### PROBLEM 1 CITATIONS:\n",
    "Adapted from divide algorithm shown in Division video on canvas."
   ]
  },
  {
   "cell_type": "markdown",
   "id": "ddd8c5ce",
   "metadata": {},
   "source": [
    "# Problem 2. (25 points)\n",
    "For a positive integer n, define An to be the array of single-digit non-negative integers containing the first n digits of π. So A1 = [3], A2 = [3,1], and so on. To remind you, the digits of π can be found on Canvas. In this assignment, we want to figure out the number of inversions in the array An. For this assignment, we are asking you to measure actual running time of your machine. For this, we suggest you import time and then time.time() returns the time past since a certain fixed point of time (Google this to find more). More importantly, taking a difference between two snapshots, one before a run of a function and one after, gives you a very good estimate of how long (in seconds) the function took.\n",
    "\n",
    "a. Implement the naive algorithm for counting inversions which goes over all pairs and just counts the number of inversions. (5 points)\n",
    "\n",
    "b. Implement the fastest counting inversions algorithm done in class/found in lecture notes.(15 points)\n",
    "\n",
    "c. Next, plot the following. On the x-axis, you have the numbers n going from 1 to 5000 increasing in jumps of 100. On the y-axis is the time taken by the two above implementations, part (a) and part (b), to count the number of inversions in the array An. (5 points) After plotting the above two, make a solemn promise to yourself that you will think twice before coding a brute-force time algorithm\n",
    "\n",
    "What is the number of inversions in A1000000, that is, what is the number of inversions in the first million digits of π?\n",
    "\n",
    "The digits of π look pretty random. Assuming this, even before you code, do you have a guess of the ball- park in which the number of inversions should lie in? Later on, check if the answer you get lies in that ball park? If not, check your code."
   ]
  },
  {
   "cell_type": "markdown",
   "id": "c20048c2",
   "metadata": {},
   "source": [
    "### a. Implement the naive algorithm for counting inversions which goes over all pairs and just counts the number of inversions. (5 points)\n"
   ]
  },
  {
   "cell_type": "code",
   "execution_count": 4,
   "id": "019a424c",
   "metadata": {},
   "outputs": [],
   "source": [
    "'''\n",
    "helper function reading the n first numbers of pi and returns a list containing these,\n",
    "the function was given on canvas\n",
    "'''\n",
    "\n",
    "def read_pi(n):\n",
    "    #opens the file name \"pi\" and reads the first n digits\n",
    "    #puts it in the list pi, and returns that list\n",
    "    pi = list()\n",
    "    f = open('pi','r')\n",
    "    for i in range(n):\n",
    "        d = f.read(1)\n",
    "        pi.append(int(d))\n",
    "    return pi"
   ]
  },
  {
   "cell_type": "code",
   "execution_count": 7,
   "id": "b6fd6ac9",
   "metadata": {},
   "outputs": [],
   "source": [
    "'''\n",
    "naive algorithm\n",
    "count_inversions_naive(A)\n",
    "\n",
    "input: array A\n",
    "output: array A and count of inversions in A\n",
    "size: n, the size of the array\n",
    "'''\n",
    "import time\n",
    "\n",
    "def count_inversions_naive(A):\n",
    "    n = len(A); count = 0\n",
    "    # base case 1\n",
    "    # -- if the length of the array is 0 or 1, there are no inversions\n",
    "    if n == (0 or 1):\n",
    "        return 0\n",
    "    else:\n",
    "        time_val = time.time()\n",
    "        #print(\"run time before entering loop: \", time_val - time_val)\n",
    "        # this loop iterates over all elements in A\n",
    "        for i in range(0, n):\n",
    "            # this loop compares A[i] with all the rest of the elements in A\n",
    "            for j in range(1, n):\n",
    "                # checks if there is an inversion and increments count when true\n",
    "                if  ((i < j) and (A[i] > A[j])):\n",
    "                    count += 1\n",
    "        #print(\"run time after entering loop: \", time.time() - time_val )\n",
    "        #store total runtime as variable, return runtime\n",
    "        run_time = time.time() - time_val\n",
    "        return A, count, run_time"
   ]
  },
  {
   "cell_type": "markdown",
   "id": "b6d6f0c8",
   "metadata": {},
   "source": [
    "### b. Implement the fastest counting inversions algorithm done in class/found in lecture notes.(15 points)"
   ]
  },
  {
   "cell_type": "code",
   "execution_count": 8,
   "id": "8230f9da",
   "metadata": {},
   "outputs": [],
   "source": [
    "# fastest counting inversions algorithm\n",
    "# sort_and_count\n",
    "   # combine\n",
    "   # count_cross_inv\n",
    "\n",
    "# input: an Array A[1:n]\n",
    "# output: the number of inversions in A\n",
    "# size: n, the size of the array\n",
    "\n",
    "\n",
    "def combine(P, Q):\n",
    "    R = []\n",
    "    # P and Q are sorted; outputs R a sorted array of elements in P and Q\n",
    "    i = 0; j = 0; k = 0;\n",
    "    while (i < len(P) and j < len(Q)):\n",
    "        if (P[i] <= Q[j]):\n",
    "            R.append(P[i])\n",
    "            i += 1\n",
    "        else:\n",
    "            R.append(Q[j])\n",
    "            j += 1;\n",
    "        k += 1\n",
    "    if (i > (len(P) - 1)):\n",
    "        while (j < len(Q)):\n",
    "            R.append(Q[j])\n",
    "            j += 1\n",
    "    else:\n",
    "        while (i < len(P)):\n",
    "            R.append(P[i])\n",
    "            i += 1\n",
    "    return R"
   ]
  },
  {
   "cell_type": "code",
   "execution_count": 11,
   "id": "f3af22cf",
   "metadata": {},
   "outputs": [],
   "source": [
    "def count_cross_inv(P, Q):\n",
    "    # P and Q are sorted arrays; outputs the number of (i,j) with P[i]>Q[j]\n",
    "    i = 0; j = 0; num = 0\n",
    "    p = len(P); q = len(Q)\n",
    "    while (i < p) and (j < q):\n",
    "        if (P[i] > Q[j]):\n",
    "            num = num + p - i\n",
    "            j += 1\n",
    "            #break\n",
    "        else:\n",
    "            i += 1\n",
    "    return num;"
   ]
  },
  {
   "cell_type": "code",
   "execution_count": 12,
   "id": "16f5defb",
   "metadata": {},
   "outputs": [],
   "source": [
    "import numpy as np\n",
    "import math\n",
    "# returns (b, i) where B = sort(A) and I is the number of inversions in A[1:n]\n",
    "def sort_and_count(A):\n",
    "    time_val = time.time()\n",
    "    if (len(A) <= 1):\n",
    "        return (A, 0, 0) #singleton array\n",
    "    else:\n",
    "        m = math.floor(len(A)/2)\n",
    "        (b1, i1, run_time) =  sort_and_count(A[0:m])\n",
    "        (b2, i2, run_time) =  sort_and_count(A[m:])\n",
    "        c = count_cross_inv(b1, b2)\n",
    "        b = combine(b1, b2)\n",
    "        #store total runtime as variable, return runtime\n",
    "        run_time = time.time() - time_val\n",
    "    return (b, (i1 + i2 + c), run_time)"
   ]
  },
  {
   "cell_type": "markdown",
   "id": "401fa212",
   "metadata": {},
   "source": [
    "### c. Next, plot the following. On the x-axis, you have the numbers n going from 1 to 5000 increasing in jumps of 100. On the y-axis is the time taken by the two above implementations, part (a) and part (b), to count the number of inversions in the array An. (5 points) After plotting the above two, make a solemn promise to yourself that you will think twice before coding a brute-force time algorithm"
   ]
  },
  {
   "cell_type": "code",
   "execution_count": 13,
   "id": "bc7d7335",
   "metadata": {},
   "outputs": [],
   "source": [
    "'''\n",
    "Create loop that goes iterates through numbers a 0 to 5000 with step of 100, \n",
    "Calculates time to run both algorithms for a numbers of pi, and stores each runtime \n",
    "in pandas dataframe\n",
    "''' \n",
    "\n",
    "import pandas as pd\n",
    "# name columns\n",
    "cols = ['naive', 'fast']\n",
    "# create dataframe\n",
    "df = pd.DataFrame(columns=cols, index=range(0, 5001, 100))\n",
    "# loop through each value\n",
    "for a in range(0, 5001, 100):\n",
    "    # add time to run for naive algorithm\n",
    "    df.loc[a].naive = count_inversions_naive(read_pi(a))[2]\n",
    "    # add time to run for 'fast' algorithm\n",
    "    df.loc[a].fast = sort_and_count(read_pi(a))[2]"
   ]
  },
  {
   "cell_type": "code",
   "execution_count": 14,
   "id": "c7d84f52",
   "metadata": {},
   "outputs": [
    {
     "data": {
      "text/html": [
       "<div>\n",
       "<style scoped>\n",
       "    .dataframe tbody tr th:only-of-type {\n",
       "        vertical-align: middle;\n",
       "    }\n",
       "\n",
       "    .dataframe tbody tr th {\n",
       "        vertical-align: top;\n",
       "    }\n",
       "\n",
       "    .dataframe thead th {\n",
       "        text-align: right;\n",
       "    }\n",
       "</style>\n",
       "<table border=\"1\" class=\"dataframe\">\n",
       "  <thead>\n",
       "    <tr style=\"text-align: right;\">\n",
       "      <th></th>\n",
       "      <th>naive</th>\n",
       "      <th>fast</th>\n",
       "    </tr>\n",
       "  </thead>\n",
       "  <tbody>\n",
       "    <tr>\n",
       "      <th>0</th>\n",
       "      <td>0.000001</td>\n",
       "      <td>0</td>\n",
       "    </tr>\n",
       "    <tr>\n",
       "      <th>100</th>\n",
       "      <td>0.000831</td>\n",
       "      <td>0.000557</td>\n",
       "    </tr>\n",
       "    <tr>\n",
       "      <th>200</th>\n",
       "      <td>0.003288</td>\n",
       "      <td>0.001216</td>\n",
       "    </tr>\n",
       "    <tr>\n",
       "      <th>300</th>\n",
       "      <td>0.007544</td>\n",
       "      <td>0.001858</td>\n",
       "    </tr>\n",
       "    <tr>\n",
       "      <th>400</th>\n",
       "      <td>0.013689</td>\n",
       "      <td>0.002077</td>\n",
       "    </tr>\n",
       "  </tbody>\n",
       "</table>\n",
       "</div>"
      ],
      "text/plain": [
       "        naive      fast\n",
       "0    0.000001         0\n",
       "100  0.000831  0.000557\n",
       "200  0.003288  0.001216\n",
       "300  0.007544  0.001858\n",
       "400  0.013689  0.002077"
      ]
     },
     "execution_count": 14,
     "metadata": {},
     "output_type": "execute_result"
    }
   ],
   "source": [
    "#display first 5 rows of dataframe\n",
    "df.head()"
   ]
  },
  {
   "cell_type": "code",
   "execution_count": 15,
   "id": "74189b06",
   "metadata": {},
   "outputs": [
    {
     "data": {
      "text/plain": [
       "<AxesSubplot:title={'center':\"Number 'n' vs. Time Taken to Implement\"}, xlabel=\"Number 'n'\", ylabel='Time (s)'>"
      ]
     },
     "execution_count": 15,
     "metadata": {},
     "output_type": "execute_result"
    },
    {
     "data": {
      "image/png": "[encoded data removed]",
      "text/plain": [
       "<Figure size 432x288 with 1 Axes>"
      ]
     },
     "metadata": {
      "needs_background": "light"
     },
     "output_type": "display_data"
    }
   ],
   "source": [
    "#plot the data against itself \n",
    "df.plot(title = 'Number \\'n\\' vs. Time Taken to Implement', xlabel= 'Number \\'n\\'', ylabel= 'Time (s)')"
   ]
  },
  {
   "cell_type": "markdown",
   "id": "e4cbfb00",
   "metadata": {},
   "source": [
    "### What is the number of inversions in A1000000, that is, what is the number of inversions in the first million digits of π?\n"
   ]
  },
  {
   "cell_type": "code",
   "execution_count": 16,
   "id": "92b3c60d",
   "metadata": {},
   "outputs": [
    {
     "data": {
      "text/plain": [
       "224964173233"
      ]
     },
     "execution_count": 16,
     "metadata": {},
     "output_type": "execute_result"
    }
   ],
   "source": [
    "A = read_pi(1000000)\n",
    "sort_and_count(A)[1]"
   ]
  },
  {
   "cell_type": "markdown",
   "id": "b257788c",
   "metadata": {},
   "source": [
    "The number of inversions is **224964173233.**"
   ]
  },
  {
   "cell_type": "markdown",
   "id": "2b9b3494",
   "metadata": {},
   "source": [
    "### Credit Statement for Problem 2:\n",
    "Helper function \"read_pi\" taken from Canvas materials."
   ]
  }
 ],
 "metadata": {
  "kernelspec": {
   "display_name": "Python 3 (ipykernel)",
   "language": "python",
   "name": "python3"
  },
  "language_info": {
   "codemirror_mode": {
    "name": "ipython",
    "version": 3
   },
   "file_extension": ".py",
   "mimetype": "text/x-python",
   "name": "python",
   "nbconvert_exporter": "python",
   "pygments_lexer": "ipython3",
   "version": "3.9.13"
  }
 },
 "nbformat": 4,
 "nbformat_minor": 5
}
