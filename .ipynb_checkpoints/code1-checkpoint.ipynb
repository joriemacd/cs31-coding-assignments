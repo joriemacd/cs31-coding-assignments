{
 "cells": [
  {
   "cell_type": "markdown",
   "id": "cc5094c7",
   "metadata": {},
   "source": [
    "### Instructions: \n",
    "Ideally, every functions input-output spec should be in a comment. If the code is big, the purpose of every relevant smaller for/while loop should be annotated.\n"
   ]
  },
  {
   "cell_type": "markdown",
   "id": "1f72f679",
   "metadata": {},
   "source": [
    "#### Problem 1. (15 points)\n",
    "Implement the DIVIDE algorithm in the Lecture 3 module with the following changes.\n",
    "* Your code takes input the two numbers in decimal notation instead of the binary notation. DONE\n",
    "* You are going to calculate your “running time” as follows: any time your code adds or subtracts two numbers a and b, it costs max(Na, Nb) where Na and Nb are the number of digits in a and b.\n",
    "* However, when an even number is incremented by 1, in that case the “running time” is only 1 (even if the even number has many digits).\n",
    "* Multiplying by 2, or dividing by 2 and taking floors, is not to be counted in your “running time”.\n",
    "* You should output, along with the quotient and the remainder, the total “running time” of your code.\n",
    "\n",
    "To give an example, if we call DIVIDE(5, 2) it calls DIVIDE(2, 2) which returns (1, 0), which becomes (2,0) in the call of DIVIDE, and since 5 is odd, we increment it to (2,1). The final increment step costs 1-unit, and this is the total time. As another example, if you call DIVIDE(21, 15) it calls DIVIDE (10, 15) which returns (0, 10); this becomes (0, 20) upon doubling, and since 21 is odd, we increment it to (0, 21). This increment costs 1 unit. 21 > 15, thus, we subtract 21 − 15 to get 6. This subtraction costs 2 units since both 21 and 15 are 2 digits. And, the quotient is incremented, and this costs another 1 unit of time. Thus, the final answer is (1, 6) and the total time is 1 + 2 + 1 = 4 units.\n",
    "What is the answer when run with (30294982, 2124234)?"
   ]
  },
  {
   "cell_type": "code",
   "execution_count": 94,
   "id": "c5993436",
   "metadata": {},
   "outputs": [],
   "source": [
    "# NEED TO ADD the runtime parts\n",
    "\n",
    "# procedure DIVIDE (x, y):\n",
    "#take numbers in decimal notation instead of binary notation!!!\n",
    "# procedure divide where x is the number being divided and y is the divisor\n",
    "# returns quotient, remainder, and total \"runtime\"\n",
    "# each time it adds or subtracts two numbers a b, it costs max(Na, Nb) <-- Na, Nb = # digits in a, b\n",
    "import math\n",
    "\n",
    "# rt -- runtime variable stores each subcomponent of the runtime -- when incrementing, should do a plus equals so\n",
    "# it works recursively\n",
    "# TODO -- explain inputs/outputs for function\n",
    "# preconditions and postconditions\n",
    "rt = 0;\n",
    "def divide(x, y):\n",
    "    global rt;\n",
    "    # base case -- if number is less than divisor\n",
    "    if x < y :\n",
    "        return (0, x) #DNC\n",
    "    # other base case -- if number is equal to divisor\n",
    "    if x == y : \n",
    "        return (1, 0) #DNC\n",
    "    x2 = math.floor(x/2) #DNC\n",
    "    # recursive call\n",
    "    q2, r2 = divide(x2, y)\n",
    "    # set r and q to two times the remainder and quotient returned from recursive call\n",
    "    q = 2 * q2; #DNC\n",
    "    r = 2 * r2; # DNC\n",
    "    if (x % 2 != 0) :\n",
    "        # when an even number is incremented by 1, the \"runtime\" is 1\n",
    "        r = r + 1;\n",
    "        #increment up runtime by 1\n",
    "        rt += 1;\n",
    "    if r >= y :\n",
    "        # increment runtime by max of number of digits in numbers being combined?\n",
    "        q = q + 1;\n",
    "        # q will always be greater or equal because of basecases, so we will use it as the max\n",
    "        rt += len(str(q));\n",
    "        # increment runtime by max of number of digits in numbers being subtracted\n",
    "        r = r - y;\n",
    "        rt += max(len(str(r)), len(str(y)));\n",
    "    return (q, r, str(rt)); \n",
    "        "
   ]
  },
  {
   "cell_type": "code",
   "execution_count": 95,
   "id": "8e701a87",
   "metadata": {},
   "outputs": [
    {
     "data": {
      "text/plain": [
       "(1, 6, '4')"
      ]
     },
     "execution_count": 95,
     "metadata": {},
     "output_type": "execute_result"
    }
   ],
   "source": [
    "divide(21, 15)"
   ]
  },
  {
   "cell_type": "markdown",
   "id": "bc5106b8",
   "metadata": {},
   "source": [
    "#### PROBLEM 1 CITATIONS: \n",
    "Adapted from divide algorithm shown in Division video on canvas. "
   ]
  },
  {
   "cell_type": "markdown",
   "id": "914bf9e9",
   "metadata": {},
   "source": [
    "#### Problem 2. (25 points)\n",
    "For a positve integer n, define An to be the array of single-digit non-negative integers containing the first\n",
    "n digits of π. So A1 = [3], A2 = [3,1], and so on. To remind you, the digits of π can be found on Canvas. In this assignment, we want to figure out the number of inversions in the array An. For this assignment, we are asking you to measure actual running time of your machine. For this, we suggest you import time and then time.time() returns the time past since a certain fixed point of time (Google this to find more). More importantly, taking a difference between two snapshots, one before a run of a function and one after, gives you a very good estimate of how long (in seconds) the function took.\n",
    "\n",
    "a. Implement the naive algorithm for counting inversions which goes over all pairs and just counts the number of inversions. (5 points)\n",
    "\n",
    "b. Implement the fastest counting inversions algorithm done in class/found in lecture notes.(15 points)\n",
    "\n",
    "c. Next, plot the following. On the x-axis, you have the numbers n going from 1 to 5000 increasing in jumps of 100. On the y-axis is the time taken by the two above implementations, part (a) and part (b),\n",
    "to count the number of inversions in the array An. (5 points)\n",
    "*After plotting the above two, make a solemn promise to yourself that you will think twice before coding\n",
    "a brute-force time algorithm *\n",
    "\n",
    "What is the number of inversions in A1000000, that is, what is the number of inversions in the first million\n",
    "digits of π?\n",
    "\n",
    "*The digits of π look pretty random. Assuming this, even before you code, do you have a guess of the ball- park in which the number of inversions should lie in? Later on, check if the answer you get lies in that ball park? If not, check your code.*\n"
   ]
  },
  {
   "cell_type": "code",
   "execution_count": 90,
   "id": "e8914c68",
   "metadata": {},
   "outputs": [],
   "source": [
    "#naive algorithm \n",
    "\n",
    "import time\n",
    "\n",
    "\n",
    "def countInversionsNaive(A):\n",
    "    count = 0;\n",
    "    if len(A) == (0 or 1):\n",
    "        return 0;\n",
    "    else:\n",
    "        for i in range(0, len(A)):\n",
    "            for j in range(1, len(A)):\n",
    "                if  ((i < j) and (A[i] > A[j])):\n",
    "                    count += 1; \n",
    "        return count;"
   ]
  },
  {
   "cell_type": "code",
   "execution_count": 92,
   "id": "23d8fa30",
   "metadata": {},
   "outputs": [
    {
     "data": {
      "text/plain": [
       "2"
      ]
     },
     "execution_count": 92,
     "metadata": {},
     "output_type": "execute_result"
    }
   ],
   "source": [
    "countInversionsNaive([2,1,3,5,4])"
   ]
  },
  {
   "cell_type": "code",
   "execution_count": null,
   "id": "1edf6e3a",
   "metadata": {},
   "outputs": [],
   "source": []
  }
 ],
 "metadata": {
  "kernelspec": {
   "display_name": "Python 3 (ipykernel)",
   "language": "python",
   "name": "python3"
  },
  "language_info": {
   "codemirror_mode": {
    "name": "ipython",
    "version": 3
   },
   "file_extension": ".py",
   "mimetype": "text/x-python",
   "name": "python",
   "nbconvert_exporter": "python",
   "pygments_lexer": "ipython3",
   "version": "3.9.13"
  }
 },
 "nbformat": 4,
 "nbformat_minor": 5
}
