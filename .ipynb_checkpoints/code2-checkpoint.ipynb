{
 "cells": [
  {
   "cell_type": "markdown",
   "id": "53a43de1",
   "metadata": {},
   "source": [
    "# Problem 1 (Multiplying Polynomials) (40 Points)\n",
    "In this coding assignment, the inputs will be polynomials. As done in class, a degree n polynomial p(x) = p0 + p1x + p2x2 + ··· + pnxn is represented as an array P[0 : n] where P[i] contains the coefficient pi. The input to the functions you write should be two lists P [0 : n] and Q[0 : n], and the output should be R[0 : 2n] which contains the coefficients of the polynomial r(x) = p(x)q(x)."
   ]
  },
  {
   "cell_type": "markdown",
   "id": "4f2f3aad",
   "metadata": {},
   "source": [
    "### (a) Implement the naive multiplication (which takes O(n2) time). Recall, this just implements the formula for rk given as (1) in the Lecture 6 notes. (5 points)"
   ]
  },
  {
   "cell_type": "code",
   "execution_count": 124,
   "id": "a94bde80",
   "metadata": {},
   "outputs": [],
   "source": [
    "import math\n",
    "import time\n",
    "\n",
    "# input P, Q are the two lists of polynomial coefficients\n",
    "# output R, run_time and count_time\n",
    "#    R = the product of the two polynomials\n",
    "#    run_time = the time measured with the time module of Python 3\n",
    "#    count_time = the time as arithmetic operations\n",
    "# given that P and Q are of the same length of [1:n], they must have the same order as well\n",
    "count_time = 0\n",
    "\n",
    "def multi_poly(P, Q, run_time = 0):\n",
    "    global count_time\n",
    "    # R contains the coefficients of the product polynomial\n",
    "    R = []; n = len(P) - 1; val = 0; time_val = time.time()\n",
    "    # TODO -- base cases\n",
    "    # for k <= 2n\n",
    "    for k in range(0, 2 * n + 1):\n",
    "        if (k <= n):\n",
    "            val = 0\n",
    "            # for i <= k\n",
    "            for i in range(0, k + 1):\n",
    "                val = val + (P[i] * Q[k-i])\n",
    "                count_time = count_time + 1\n",
    "        else:\n",
    "            val = 0\n",
    "            for i in range(k - n, n + 1):\n",
    "                val = val + (P[i] * Q[k - i])\n",
    "                count_time = count_time + 1\n",
    "                \n",
    "        R.append(val)\n",
    "        \n",
    "    run_time = time.time() - time_val\n",
    "    count_time = count_time + n\n",
    "    return (R, run_time, count_time)"
   ]
  },
  {
   "cell_type": "code",
   "execution_count": 125,
   "id": "fad30a34",
   "metadata": {},
   "outputs": [
    {
     "data": {
      "text/plain": [
       "([2, 5, 3], 0.0, 5)"
      ]
     },
     "execution_count": 125,
     "metadata": {},
     "output_type": "execute_result"
    }
   ],
   "source": [
    "multi_poly([1,1],[2,3])"
   ]
  },
  {
   "cell_type": "markdown",
   "id": "71f0c2e1",
   "metadata": {},
   "source": [
    "### (b) Implement Karatsuba’s algorithm done in class. If history is a guide, this is tricky to code mainly because you need to handle indices carefully. So be careful. (15 points)"
   ]
  },
  {
   "cell_type": "code",
   "execution_count": 84,
   "id": "178bb116",
   "metadata": {},
   "outputs": [],
   "source": [
    "''' \n",
    "input: Coefficients of two degree n polynomials: arrays P[0:n] \n",
    "        and Q[0:  n]\n",
    "output: Coefficient of the product polynomial: array R[0: 2n].\n",
    "size: n, the length of P and Q\n",
    "\n",
    "'''\n",
    "import time\n",
    "first_run = False\n",
    "\n",
    "def karat_multi_poly(P, Q, run_time = 0):\n",
    "    global first_run\n",
    "    n = (len(P) - 1); Px = []; Qx = []\n",
    "    if (first_run == False):\n",
    "        # initialization of arrays so we can set value to specific indice i and m\n",
    "        first_run = True\n",
    "        time_val = time.time()\n",
    "        Px = [0 for i in range(len(P))]\n",
    "        Qx = [0 for i in range(len(Q))]\n",
    "    # base cases, \n",
    "    if len(P) == 0 or 1:\n",
    "        # return R using naive multiplication\n",
    "        return multi_poly(P, Q)\n",
    "    # half and floor the array\n",
    "    m = math.ceil(n/2)\n",
    "    # loop through for all numbers 0 <= i <= m -1\n",
    "    #initalize new arrays Px and Qx\n",
    "    for i in range(0,m):\n",
    "        Px[i] = P[i] + P[m + i]\n",
    "        Qx[i] = Q[i] + Q[m + i]\n",
    "    # if n = 2m\n",
    "    if (n > (2 * m - 1)):\n",
    "        Px[m] = P[n]\n",
    "        Qx[m] = Q[n]\n",
    "    #else:\n",
    "        #do nothing as indices of Px and Qx are set to 0 from the start\n",
    "         #Px[m] = 0\n",
    "         #Qx[m] = 0\n",
    "    # guarantees degree m, all have length <= 2m\n",
    "    # array index range [0: 2(m-1)]\n",
    "    # has coefficients of p1(x)* q1(x)\n",
    "    R1 = karat_multi_poly(P[0:m-1], Q[0:m-1])\n",
    "    # array index range [0: 2(n-m)]\n",
    "    # has coefficients of p2(x)* q2(x)\n",
    "    R2 = karat_multi_poly(P[m:n], Q[m:n])\n",
    "    # array index range: [0: 2m]\n",
    "    # has coefficients of (p1(x)+ p2(x)) * (q1(x)+ q2(x))\n",
    "    R3 = karat_multi_poly(Px[0:m],Qx[0,m])\n",
    "    # loop through all numbers 0 <= i <2m\n",
    "    for i in range(0,(2*m + 1)):\n",
    "        R4[i] = R3[i] - R1[i] - R2[i]\n",
    "    # loop through all numbers 0 <= i <2n\n",
    "    for i in range(2*(n + 1)):\n",
    "        if (i >= (len(R1)) or i < 0):\n",
    "            # because R1 = 0\n",
    "            R[i] = R4[i-m]+ R2[i-2*m]\n",
    "        if i >= ((len(R4)) or i < 0):\n",
    "            R[i] = R1[i] + R2[i-2*m]\n",
    "        if i >= ((len(R2)) or i < 0):\n",
    "            R[i] = R1[i]+ R4[i-m]\n",
    "        else:\n",
    "            R[i] = R1[i]+ R4[i-m]+ R2[i-2*m]\n",
    "        # assume an array returns 0 if indexed out of range\n",
    "        # if i is less than range return 0\n",
    "        # if i is greater than range return 0\n",
    "        run_time = time.time() - time_val\n",
    "    return R, run_time\n",
    "        "
   ]
  },
  {
   "cell_type": "code",
   "execution_count": 85,
   "id": "b2f72e4b",
   "metadata": {},
   "outputs": [
    {
     "data": {
      "text/plain": [
       "([2, 5, 6, 4, 1], 0.0)"
      ]
     },
     "execution_count": 85,
     "metadata": {},
     "output_type": "execute_result"
    }
   ],
   "source": [
    "karat_multi_poly([1,1,1],[2,3,1])"
   ]
  },
  {
   "cell_type": "markdown",
   "id": "a92d8577",
   "metadata": {},
   "source": [
    "### (c) Given a number n, consider the polynomial pn(x) whose coefficient array Pn[0 : n] is defined as the first (n + 1)-digits of π. \n",
    "So, for instance,\n",
    "p0(x)=3, p1(x)=3+x, p2(x)=3+x+4x2, p3(x)=3+x+4x2 +x3,...\n",
    "Define rn(x) := pn(x) · pn(x), the square of the pn(x) polynomial. Let Sn be the sum of squares of the coefficients of the polynomial rn. So, for example, S0 = 81 (since r0(x) = p0(x)2 = 9 and so S0 =92),andS1 =118(sincer1(x)=p1(x)2 =9+6x+x2,and92 +62 +12 =118.)\n",
    "Write code calling the Karatsuba routine to find out S20000? Note: we need to at the 20001 digits of π to answer this question. (5 points)\n",
    "Even Karatsuba may take around a minute to run – don’t panic."
   ]
  },
  {
   "cell_type": "code",
   "execution_count": 26,
   "id": "1b65eec9",
   "metadata": {},
   "outputs": [],
   "source": [
    "'''\n",
    "helper function reading the n first numbers of pi and returns a list containing these,\n",
    "the function was given on canvas\n",
    "'''\n",
    "\n",
    "def read_pi(n):\n",
    "    #opens the file name \"pi\" and reads the first n digits\n",
    "    #puts it in the list pi, and returns that list\n",
    "    pi = list()\n",
    "    f = open('pi','r')\n",
    "    for i in range(n):\n",
    "        d = f.read(1)\n",
    "        pi.append(int(d))\n",
    "    return pi"
   ]
  },
  {
   "cell_type": "code",
   "execution_count": 62,
   "id": "e279d583",
   "metadata": {},
   "outputs": [],
   "source": [
    "def square_pi_poly(n):\n",
    "    # s is the sum of squares of the coefficients of the polynomial\n",
    "    s = 0\n",
    "    # read the first (n + 1) digits of pi\n",
    "    P = read_pi(n)\n",
    "    # TODO -- comment out\n",
    "    # when we have karatsuba\n",
    "    # call karatsuba's algorithm to get R, i.e.,\n",
    "    # the square of the P(n) polynomial\n",
    "    R = multi_poly(P, P)\n",
    "    n = len(R[0])\n",
    "    for i in range(0, n):\n",
    "        s = s + math.pow(R[0][i],2)\n",
    "    \n",
    "    return s"
   ]
  },
  {
   "cell_type": "code",
   "execution_count": 69,
   "id": "e1f4ce58",
   "metadata": {},
   "outputs": [
    {
     "name": "stdout",
     "output_type": "stream",
     "text": [
      "2192522453709283.0\n"
     ]
    }
   ],
   "source": [
    "print(square_pi_poly(20000))\n",
    "# S_20000 = 2192522453709283.0"
   ]
  },
  {
   "cell_type": "markdown",
   "id": "76c10bd0",
   "metadata": {},
   "source": [
    "### (d) In this part, you will find out at roughly what n does the Karatsuba algorithm “beat” the Naive algo- rithm. But we will measure “time” in two ways."
   ]
  },
  {
   "cell_type": "markdown",
   "id": "706bfed7",
   "metadata": {},
   "source": [
    "#### (i) First, we measure time using the time module of Python 3. Plot, as a function of n, n going from 1 to 10, 000 in jumps of 100, the time taken by both algorithms to compute rn(x). Show these two “curves” overlaid on the same plot. Clearly mark which is which. At roughly what n do you see Karatsuba “beating” the naive algorithm (if at all)? (5 points)"
   ]
  },
  {
   "cell_type": "code",
   "execution_count": 128,
   "id": "2ecbeda6",
   "metadata": {},
   "outputs": [
    {
     "data": {
      "text/plain": [
       "<AxesSubplot:title={'center':\"Number 'n' vs. Time Taken to Implement\"}, xlabel=\"Number 'n'\", ylabel='Time (s)'>"
      ]
     },
     "execution_count": 128,
     "metadata": {},
     "output_type": "execute_result"
    },
    {
     "data": {
      "image/png": "[encoded data removed]",
      "text/plain": [
       "<Figure size 432x288 with 1 Axes>"
      ]
     },
     "metadata": {
      "needs_background": "light"
     },
     "output_type": "display_data"
    }
   ],
   "source": [
    "\n",
    "'''\n",
    "Create loop that goes iterates through numbers a 0 to 10000 with step of 100, \n",
    "Calculates time to run both algorithms for a numbers of pi, and stores each runtime \n",
    "in pandas dataframe\n",
    "''' \n",
    "\n",
    "import pandas as pd\n",
    "# name columns\n",
    "cols = ['naive', 'karatsuba']\n",
    "# create dataframe\n",
    "df = pd.DataFrame(columns=cols, index=range(0, 10001, 1000))\n",
    "# loop through each value\n",
    "for a in range(0, 10001, 1000):\n",
    "    P = read_pi(a)\n",
    "    # add time to run for naive algorithm\n",
    "    df.loc[a].naive = multi_poly(P,P)[1]\n",
    "    # add time to run for 'fast' algorithm\n",
    "    df.loc[a].karatsuba = karat_multi_poly(P,P)[1]\n",
    "\n",
    "### NEED TO DROP TOP COLUMN AND REPLACE WITH 1 INDEX AND VALUES?\n",
    "#plot the data against itself \n",
    "df.plot(title = 'Number \\'n\\' vs. Time Taken to Implement', xlabel= 'Number \\'n\\'', ylabel= 'Time (s)')\n"
   ]
  },
  {
   "cell_type": "markdown",
   "id": "b3801586",
   "metadata": {},
   "source": [
    "#### (ii) Second, we measure time as “arithmetic operations”. Every time you add, subtract, or multiply two entries from some array (either P or Q or something called recursively), you increment a global counter. This way, at the end of the code, you will know how many such operations have been performed. Note that we are not counting incrementing indices, or comparing, or anything else in the running time. Concretely, if you multiply two degree 1 polynomials, say (1 + x) and (2 + 3x), then there are 5 arithmetic operations by both: four multiplications and one addition of 2x and 3x.\n",
    "Now plot, as a function of n, n going from 1 to 1000 in jumps of 5, the “time” (in this new notion) taken by both naive and Karatsuba algorithms. As before, show these two curves overlaid on the same plot. At roughly what n does Karatsuba beat Naive (if at all)? (5 points)\n",
    "Is there a discrepancy in the two n’s you get above? Can you explain this?"
   ]
  },
  {
   "cell_type": "code",
   "execution_count": null,
   "id": "418df2a1",
   "metadata": {},
   "outputs": [],
   "source": []
  },
  {
   "cell_type": "markdown",
   "id": "9069f121",
   "metadata": {},
   "source": [
    "#### (iii) Write code which takes input a number C > 0, and returns a plot where the x-axis has integers 1 to 200 in increments of 1, and which overlays Karatsuba’s time in terms of number of arithmetic operations (as in part (ii)) with the curve y(n) := C · nlog2 3. For what value of C, to the nearest integer, do you see the two curves “matching” (if at all)? That should give an idea of how big a constant is big-Oh hiding. (5 points)"
   ]
  },
  {
   "cell_type": "code",
   "execution_count": null,
   "id": "60cd7b0a",
   "metadata": {},
   "outputs": [],
   "source": []
  }
 ],
 "metadata": {
  "kernelspec": {
   "display_name": "Python 3 (ipykernel)",
   "language": "python",
   "name": "python3"
  },
  "language_info": {
   "codemirror_mode": {
    "name": "ipython",
    "version": 3
   },
   "file_extension": ".py",
   "mimetype": "text/x-python",
   "name": "python",
   "nbconvert_exporter": "python",
   "pygments_lexer": "ipython3",
   "version": "3.9.7"
  }
 },
 "nbformat": 4,
 "nbformat_minor": 5
}
