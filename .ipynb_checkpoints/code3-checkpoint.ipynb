{
 "cells": [
  {
   "cell_type": "markdown",
   "id": "84be50f4",
   "metadata": {},
   "source": [
    "### Problem 1. (20 points)\n",
    "Call a number n cube-summable if it can be expressed as a sum of distinct positive perfect cubes. So,\n",
    "the number 9 is cube-summable since 9 = 13 + 23, but the number 2 is not. In this coding assignment you have to find out how many cube-summable numbers are there between 1 and a million?\n",
    "\n",
    "a. In your pdf file/iPython notebook, clearly write down how the above problem is a special case of the SUBSETSUM problem. So in particular, you have to write what the a1, a2, . . . , an’s are, how many (the n) of them there are, and what the target B is, which will allow you to answer this question. (5 points)\n",
    "\n",
    "b. Implement the dynamic programming algorithm for SUBSETSUM problem, and use your above argu- ment to find the number of cube-summable numbers among the first million numbers (inclusive). (15 points)\n",
    "\n",
    "\n",
    "Now that you have coded everything up, hopefully you can easily find the number of cube-summable numbers among the first half a million. Do you note something interesting? If you do, write this down as well.\n"
   ]
  },
  {
   "cell_type": "markdown",
   "id": "c0a635bc",
   "metadata": {},
   "source": [
    "### Problem 2. (25 points)\n",
    "\n",
    "As in Coding Assignment 1, for a positve integer n, define An to be the array of single-digit non-negative\n",
    "integers containing the first n digits of π. So A1 = [3], A2 = [3, 1], and so on. You have to write code which takes input n and finds the length of the longest increasing subsequence in An.\n",
    "\n",
    "a. Implement the O(n2) time algorithm for LIS. Use this to return the length of an LIS of A10000, that is, the length of an LIS among the first 10,000 digits of π? Does this code return the length of an LIS of A1000000? If so, how long did it take? (15 points)\n",
    "\n",
    "b. Implement the O(n log n) time algorithm for LIS. Use this to return the length of an LIS of A1000000, that is, the length of an LIS among the first million digits of π? How long did this take? (10 points)"
   ]
  }
 ],
 "metadata": {
  "kernelspec": {
   "display_name": "Python 3 (ipykernel)",
   "language": "python",
   "name": "python3"
  },
  "language_info": {
   "codemirror_mode": {
    "name": "ipython",
    "version": 3
   },
   "file_extension": ".py",
   "mimetype": "text/x-python",
   "name": "python",
   "nbconvert_exporter": "python",
   "pygments_lexer": "ipython3",
   "version": "3.9.13"
  }
 },
 "nbformat": 4,
 "nbformat_minor": 5
}
