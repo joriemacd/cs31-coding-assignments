{
 "cells": [
  {
   "cell_type": "markdown",
   "id": "84be50f4",
   "metadata": {},
   "source": [
    "# Problem 1. (20 points)\n",
    "Call a number n cube-summable if it can be expressed as a sum of distinct positive perfect cubes. So,\n",
    "the number 9 is cube-summable since 9 = 13 + 23, but the number 2 is not. In this coding assignment you have to find out how many cube-summable numbers are there between 1 and a million?\n"
   ]
  },
  {
   "cell_type": "markdown",
   "id": "d820cf3f",
   "metadata": {},
   "source": [
    "### a. In your pdf file/iPython notebook, clearly write down how the above problem is a special case of the SUBSETSUM problem. So in particular, you have to write what the a1, a2, . . . , an’s are, how many (the n) of them there are, and what the target B is, which will allow you to answer this question. (5 points)"
   ]
  },
  {
   "cell_type": "markdown",
   "id": "0d796bfc",
   "metadata": {},
   "source": [
    "This is a special case of the subsetsum problem because we are trying to find all of the possible subsets that sum to less than 1 million. \n",
    "\n",
    "\n",
    "Our input will be the cube of positive integers 1, 2, ... 100. So, a1 = 1^3, a2 = 2^3, .... an = 100^3. There will be one hundered terms (n = 100) because 100^3 = 1,000,000, so no greater number can be added without us exceeding our sum. \n",
    "\n",
    "\n",
    "This differs from the original subsetsum problem because as opposed to there being one single target integer, our target all values less than 1 million. \n",
    "\n",
    "\n",
    "(In theory, we will modify the existing subset sum algorithm to check if it is less than B, and then increment a counter each time it is)."
   ]
  },
  {
   "cell_type": "code",
   "execution_count": 18,
   "id": "66997db1",
   "metadata": {},
   "outputs": [],
   "source": [
    "import numpy as np\n",
    "import math\n",
    "import time"
   ]
  },
  {
   "cell_type": "code",
   "execution_count": 19,
   "id": "6dd14916",
   "metadata": {},
   "outputs": [],
   "source": [
    "'''\n",
    "input: integer n\n",
    "output: an array of the cubes of all integers from 1 to n.\n",
    "'''\n",
    "\n",
    "def buildArray(n):\n",
    "    A = [0] * n\n",
    "    \n",
    "    # for all 1 ≤ i ≤ n, find i^3\n",
    "    for i in range (0, n):\n",
    "        A[i] = (i+1)*(i+1)*(i+1)\n",
    "    return A"
   ]
  },
  {
   "cell_type": "markdown",
   "id": "f1a7b128",
   "metadata": {},
   "source": [
    "### b. Implement the dynamic programming algorithm for SUBSETSUM problem, and use your above argument to find the number of cube-summable numbers among the first million numbers (inclusive). (15 points)"
   ]
  },
  {
   "cell_type": "code",
   "execution_count": 20,
   "id": "a9532088",
   "metadata": {},
   "outputs": [],
   "source": [
    "''' \n",
    "input: array of cubes of positive integers 1 to 100\n",
    "output: number of possible subsets < 1,000,000\n",
    "'''\n",
    "def SubSetCount(A, B):\n",
    "    \n",
    "    # based on B, figure out how many terms are in input array\n",
    "    n = math.floor((B + 1)**(1/3))\n",
    "    F = np.zeros((n, B + 1))\n",
    "\n",
    "    # deal with basecases\n",
    "    for m in range(n):\n",
    "        F[m, 0] = 1\n",
    "\n",
    "    # count number where the value is being \n",
    "    for m in range (n):\n",
    "        for b in range (1, B + 1):\n",
    "            if (b - A[m] < 0):\n",
    "                F[m, b] = F[m - 1,b]\n",
    "            else:\n",
    "                F[m, b] = max(F[m -1, b], F[m -1, b - A[m]])\n",
    "    \n",
    "         \n",
    "               \n",
    "    # RECOVERY\n",
    "    # want to count the number of 1s on the bottom row, because those represent integers \n",
    "    # that can be reached by some combination of cubeable numbers. \n",
    "    # initialize variable to store number of possible integers to be reached\n",
    "    numPossible = 0\n",
    "    for i in range (B):\n",
    "        if (F[n-1, i] == 1):\n",
    "            numPossible = numPossible + 1\n",
    "    \n",
    "    return numPossible\n",
    "    \n",
    "    # these integers are all guaranteed to be 1,000,000 or less, because we are not checking\n",
    "    # if we can reach any sum greater than 1,000,000. \n"
   ]
  },
  {
   "cell_type": "code",
   "execution_count": 17,
   "id": "e037bcc8",
   "metadata": {
    "scrolled": true
   },
   "outputs": [
    {
     "data": {
      "text/plain": [
       "997212"
      ]
     },
     "execution_count": 17,
     "metadata": {},
     "output_type": "execute_result"
    }
   ],
   "source": [
    "A = buildArray(1000000)\n",
    "SubSetCount(A, 1000000)"
   ]
  },
  {
   "cell_type": "markdown",
   "id": "dbcec774",
   "metadata": {},
   "source": [
    "So, there are **997212** cube summable numbers between 1 and 1 million. "
   ]
  },
  {
   "cell_type": "markdown",
   "id": "f9b2604b",
   "metadata": {},
   "source": [
    "### Now that you have coded everything up, hopefully you can easily find the number of cube-summable numbers among the first half a million. Do you note something interesting? If you do, write this down as well."
   ]
  },
  {
   "cell_type": "code",
   "execution_count": 21,
   "id": "2a03561a",
   "metadata": {
    "scrolled": true
   },
   "outputs": [
    {
     "data": {
      "text/plain": [
       "497212"
      ]
     },
     "execution_count": 21,
     "metadata": {},
     "output_type": "execute_result"
    }
   ],
   "source": [
    "B = buildArray(500000)\n",
    "SubSetCount(B, 500000)"
   ]
  },
  {
   "cell_type": "markdown",
   "id": "e709f618",
   "metadata": {},
   "source": [
    "It is very close to half of the number of cube-summable numbers among a million. It is only ~1000 off. This is suprising considering how large the numbers are...\n",
    "\n",
    "Curiously, if we graph it:"
   ]
  },
  {
   "cell_type": "code",
   "execution_count": 39,
   "id": "e052c355",
   "metadata": {
    "scrolled": true
   },
   "outputs": [],
   "source": [
    "import matplotlib\n",
    "import pandas as pd\n",
    "\n",
    "df = pd.DataFrame(columns=['limit', 'numberCubeSummable'], index=range(1, 1000))\n",
    "\n",
    "i = 0\n",
    "for d in range (0, 1000000, 10000):\n",
    "    df.limit[i] = d\n",
    "    B = buildArray(d)\n",
    "    df.numberCubeSummable[i] = SubSetCount(B, d)\n",
    "    i = i + 1"
   ]
  },
  {
   "cell_type": "code",
   "execution_count": 40,
   "id": "c3f94df6",
   "metadata": {},
   "outputs": [
    {
     "data": {
      "text/html": [
       "<div>\n",
       "<style scoped>\n",
       "    .dataframe tbody tr th:only-of-type {\n",
       "        vertical-align: middle;\n",
       "    }\n",
       "\n",
       "    .dataframe tbody tr th {\n",
       "        vertical-align: top;\n",
       "    }\n",
       "\n",
       "    .dataframe thead th {\n",
       "        text-align: right;\n",
       "    }\n",
       "</style>\n",
       "<table border=\"1\" class=\"dataframe\">\n",
       "  <thead>\n",
       "    <tr style=\"text-align: right;\">\n",
       "      <th></th>\n",
       "      <th>limit</th>\n",
       "      <th>numberCubeSummable</th>\n",
       "    </tr>\n",
       "  </thead>\n",
       "  <tbody>\n",
       "    <tr>\n",
       "      <th>1</th>\n",
       "      <td>10000</td>\n",
       "      <td>7235</td>\n",
       "    </tr>\n",
       "    <tr>\n",
       "      <th>2</th>\n",
       "      <td>20000</td>\n",
       "      <td>17212</td>\n",
       "    </tr>\n",
       "    <tr>\n",
       "      <th>3</th>\n",
       "      <td>30000</td>\n",
       "      <td>27212</td>\n",
       "    </tr>\n",
       "    <tr>\n",
       "      <th>4</th>\n",
       "      <td>40000</td>\n",
       "      <td>37212</td>\n",
       "    </tr>\n",
       "    <tr>\n",
       "      <th>5</th>\n",
       "      <td>50000</td>\n",
       "      <td>47212</td>\n",
       "    </tr>\n",
       "  </tbody>\n",
       "</table>\n",
       "</div>"
      ],
      "text/plain": [
       "   limit numberCubeSummable\n",
       "1  10000               7235\n",
       "2  20000              17212\n",
       "3  30000              27212\n",
       "4  40000              37212\n",
       "5  50000              47212"
      ]
     },
     "execution_count": 40,
     "metadata": {},
     "output_type": "execute_result"
    }
   ],
   "source": [
    "df.head()"
   ]
  },
  {
   "cell_type": "code",
   "execution_count": 50,
   "id": "dab07112",
   "metadata": {},
   "outputs": [
    {
     "name": "stderr",
     "output_type": "stream",
     "text": [
      "/usr/local/lib/python3.9/site-packages/pandas/core/indexes/base.py:6982: FutureWarning: In a future version, the Index constructor will not infer numeric dtypes when passed object-dtype sequences (matching Series behavior)\n",
      "  return Index(sequences[0], name=names)\n"
     ]
    },
    {
     "data": {
      "text/plain": [
       "<AxesSubplot:title={'center':'Number of Cube Summable Numbers Among Limit \\n'}, xlabel=\"Limit 'n'\", ylabel='Number Cube Summable'>"
      ]
     },
     "execution_count": 50,
     "metadata": {},
     "output_type": "execute_result"
    },
    {
     "data": {
      "image/png": "[encoded data removed]",
      "text/plain": [
       "<Figure size 432x288 with 1 Axes>"
      ]
     },
     "metadata": {
      "needs_background": "light"
     },
     "output_type": "display_data"
    }
   ],
   "source": [
    "#plot the data against itself \n",
    "df.plot(x = 'limit', y = 'numberCubeSummable', title = 'Number of Cube Summable Numbers Among Limit \\n', xlabel= 'Limit \\'n\\'', ylabel= 'Number Cube Summable')"
   ]
  },
  {
   "cell_type": "markdown",
   "id": "3397301e",
   "metadata": {},
   "source": [
    "##### It appears that it is extremely linear. "
   ]
  },
  {
   "cell_type": "markdown",
   "id": "e37002b5",
   "metadata": {},
   "source": [
    "### Credit Statement: \n",
    "Conversation and consulation with Tucker Simpson, Julia Martin."
   ]
  },
  {
   "cell_type": "markdown",
   "id": "c0a635bc",
   "metadata": {},
   "source": [
    "# Problem 2. (25 points)\n",
    "\n",
    "As in Coding Assignment 1, for a positve integer n, define An to be the array of single-digit non-negative\n",
    "integers containing the first n digits of π. So A1 = [3], A2 = [3, 1], and so on. You have to write code which takes input n and finds the length of the longest increasing subsequence in An."
   ]
  },
  {
   "cell_type": "code",
   "execution_count": 48,
   "id": "561a0f65",
   "metadata": {},
   "outputs": [],
   "source": [
    "'''\n",
    "helper function reading the n first numbers of pi and returns a list containing these,\n",
    "the function was given on canvas\n",
    "'''\n",
    "\n",
    "def read_pi(n):\n",
    "    #opens the file name \"pi\" and reads the first n digits\n",
    "    #puts it in the list pi, and returns that list\n",
    "    pi = list()\n",
    "    f = open('pi','r')\n",
    "    for i in range(n):\n",
    "        d = f.read(1)\n",
    "        pi.append(int(d))\n",
    "    return pi\n"
   ]
  },
  {
   "cell_type": "markdown",
   "id": "840e02d8",
   "metadata": {},
   "source": [
    "a. Implement the $O(n^2)$ time algorithm for LIS. Use this to return the length of an LIS of A10000, that is, the length of an LIS among the first 10,000 digits of π? Does this code return the length of an LIS of A1000000? If so, how long did it take? (15 points)"
   ]
  },
  {
   "cell_type": "code",
   "execution_count": 46,
   "id": "196f95f0",
   "metadata": {},
   "outputs": [],
   "source": [
    "'''implement O(n^2) algorithm for LIS'''\n",
    "\n",
    "def LIS(b):\n",
    "    # initalize time counter\n",
    "    startTime = time.time()\n",
    "    \n",
    "    # obtain array of amount of digits\n",
    "    A = read_pi(b)\n",
    "    # allocate space such that L[m] contains LIS(m)\n",
    "    n = len(A)\n",
    "    L = np.zeros(n)\n",
    "    \n",
    "    # base case (technically is addressed by line above)\n",
    "    L[0] = 0\n",
    "    \n",
    "    # initalize running maximum to zero\n",
    "    maxLIS = 0 \n",
    "    for m in range (1, n):\n",
    "        L[m] = 1 \n",
    "        \n",
    "        \n",
    "        for j in range (m):\n",
    "            if (A[j] <= A[m]):\n",
    "                L[m] = max(1 + L[j], L[m])\n",
    "          \n",
    "        # maximize over running maximum and new value\n",
    "        maxLIS = max(maxLIS, L[m])\n",
    "    \n",
    "    # capture end time\n",
    "    endTime = time.time()\n",
    "    # calculate total runtime\n",
    "    totalTime = endTime -startTime \n",
    "    return maxLIS, 'time: ' + str(totalTime)\n",
    "            \n",
    "    "
   ]
  },
  {
   "cell_type": "code",
   "execution_count": 26,
   "id": "f870ba02",
   "metadata": {},
   "outputs": [
    {
     "data": {
      "text/plain": [
       "(1136.0, 'time: 13.758015871047974')"
      ]
     },
     "execution_count": 26,
     "metadata": {},
     "output_type": "execute_result"
    }
   ],
   "source": [
    "LIS(10000)"
   ]
  },
  {
   "cell_type": "code",
   "execution_count": null,
   "id": "f7387e64",
   "metadata": {
    "scrolled": true
   },
   "outputs": [],
   "source": [
    "LIS(1000000)"
   ]
  },
  {
   "cell_type": "markdown",
   "id": "55bfc0e4",
   "metadata": {},
   "source": [
    "Did not run in reasonable amount of time at time of submission."
   ]
  },
  {
   "cell_type": "markdown",
   "id": "01f41034",
   "metadata": {},
   "source": [
    "b. Implement the $O(n log n)$ time algorithm for LIS. Use this to return the length of an LIS of A1000000, that is, the length of an LIS among the first million digits of π? How long did this take? (10 points)"
   ]
  },
  {
   "cell_type": "code",
   "execution_count": 48,
   "id": "82579158",
   "metadata": {},
   "outputs": [],
   "source": [
    "''' \n",
    "find the largest entry ≤ A[m] in the sorted array D\n",
    "\n",
    "BinarySearch method for ease of use\n",
    "input: Sorted array D[1:t], element A[m]\n",
    "\n",
    "\n",
    "'''\n",
    "\n",
    "def BinSearch(D, A):\n",
    "    L = 0\n",
    "    U = len(D)\n",
    "    s = math.ceil((L + U)/2)\n",
    "    \n",
    "    while (U - L > 1):\n",
    "        s = math.ceil((L + U)/2)\n",
    "        if (D[s] <= A):\n",
    "            L = s\n",
    "            \n",
    "\n",
    "        else:    \n",
    "            U = s\n",
    "           \n",
    "   \n",
    "    return L"
   ]
  },
  {
   "cell_type": "code",
   "execution_count": 88,
   "id": "7e2bb29a",
   "metadata": {},
   "outputs": [],
   "source": [
    "def LISFaster(n):\n",
    "    startTime = time.time()\n",
    "    # obtain array of first amount of digits\n",
    "    A = read_pi(n)\n",
    "    \n",
    "    # allocate space to contain LIS(m)\n",
    "    L = np.zeros(n, dtype = int)\n",
    "\n",
    "    # initalize t to zero, D and E to empty arrays\n",
    "    # t is the longest LIS seen so far\n",
    "    t = 0\n",
    "    # D[s] will contain the smallest array element A[j] such that LIS A[1:j] is length s\n",
    "    D = []\n",
    "\n",
    "    \n",
    "    # base case\n",
    "    L[0] = 0\n",
    "    # initialize maxLIS\n",
    "    maxLis = 0\n",
    "    \n",
    "    for m in range (1, n):\n",
    "        ss = BinSearch(D, A[m]) # <--  find the largest entry ≤ A[m] in the sorted array D\n",
    "        L[m] = 1 + ss\n",
    "        \n",
    "        # check if current t is less than L[m]\n",
    "        if (L[m] > t-1):\n",
    "            D.append(A[m])\n",
    "            t = t + 1\n",
    "\n",
    "       \n",
    "        # else, update array D\n",
    "        elif (A[m] < D[L[m]]):\n",
    "            D[L[m]] = A[m]\n",
    "       \n",
    "    \n",
    "        maxLis = max(maxLis, L[m])\n",
    "    \n",
    "    \n",
    "    endTime = time.time()\n",
    "    # calculate total runtime\n",
    "    totalTime = endTime - startTime\n",
    "    return maxLis, 'time: ' + str(totalTime)\n",
    "        \n",
    "\n",
    "    "
   ]
  },
  {
   "cell_type": "code",
   "execution_count": 96,
   "id": "1507c4d7",
   "metadata": {
    "scrolled": true
   },
   "outputs": [
    {
     "data": {
      "text/plain": [
       "(101892, 'time: 4.0173280239105225')"
      ]
     },
     "execution_count": 96,
     "metadata": {},
     "output_type": "execute_result"
    }
   ],
   "source": [
    "LISFaster(1000000)"
   ]
  },
  {
   "cell_type": "markdown",
   "id": "0f314f01",
   "metadata": {},
   "source": [
    "### Credit Statement: \n",
    "Conversation and consultation with Tucker Simpson, Julia Martin."
   ]
  }
 ],
 "metadata": {
  "kernelspec": {
   "display_name": "Python 3 (ipykernel)",
   "language": "python",
   "name": "python3"
  },
  "language_info": {
   "codemirror_mode": {
    "name": "ipython",
    "version": 3
   },
   "file_extension": ".py",
   "mimetype": "text/x-python",
   "name": "python",
   "nbconvert_exporter": "python",
   "pygments_lexer": "ipython3",
   "version": "3.9.13"
  }
 },
 "nbformat": 4,
 "nbformat_minor": 5
}
