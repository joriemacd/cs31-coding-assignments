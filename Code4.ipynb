{
 "cells": [
  {
   "cell_type": "markdown",
   "id": "a9f296a0",
   "metadata": {},
   "source": [
    "Problem 1. (45 points)\n",
    "In this exercise, you are supposed to code DFS and related algorithms done in class. To help you, we are\n",
    "providing Python code for a graph class file graph_class.py which you can import. You should feel\n",
    "completely free to modify this code as you please. The operations that this gives you are:\n",
    "\n",
    "* init: G = graph() would create an empty graph\n",
    "* Read Edges: G.Read Edges(fname) would read directed edges from the file “fname” where eachline would contains endpoints of one directed edge separated by whitespace.\n",
    "* Other routines are sufficiently commented to be clear. Ask questions on Ed Discussion for clarification\n",
    "\n"
   ]
  },
  {
   "cell_type": "code",
   "execution_count": 12,
   "id": "db208ef7",
   "metadata": {},
   "outputs": [],
   "source": [
    "# import in graph class\n",
    "from graph_class import graph"
   ]
  },
  {
   "cell_type": "markdown",
   "id": "a7af4754",
   "metadata": {},
   "source": [
    "a. Implement DFS. Read the directed graph in the file graph2.txt and run DFS on it. When you\n",
    "implement DFS, you should traverse neighbors (the For-loop of DFS) in alphabetical order1. The\n",
    "order σ in which you run DFS should also be alphabetical. So in particular, you should start exploring\n",
    "from the letter a. Write down the order in which the vertices are visited. Do you agree? (10 points)"
   ]
  },
  {
   "cell_type": "code",
   "execution_count": 22,
   "id": "98be6c2b",
   "metadata": {},
   "outputs": [],
   "source": [
    "'''read in graph from graph2.txt'''\n",
    "# initalize graph\n",
    "G = graph()\n",
    "# read in edges\n",
    "G.Read_Edges(\"graph2.txt\")\n",
    "G.Read_Vertex_Labels(\"graph2.txt\")"
   ]
  },
  {
   "cell_type": "code",
   "execution_count": 23,
   "id": "7a0adacd",
   "metadata": {
    "scrolled": true
   },
   "outputs": [
    {
     "name": "stdout",
     "output_type": "stream",
     "text": [
      "13 20\n"
     ]
    }
   ],
   "source": [
    "# check to make sure has read in correctly\n",
    "print(G.num_vertices(),G.num_edges())"
   ]
  },
  {
   "cell_type": "code",
   "execution_count": 28,
   "id": "037acae1",
   "metadata": {},
   "outputs": [],
   "source": [
    "'''Implement DFS:\n",
    "* traverse neighbors in alphabetical order\n",
    "* top order should be alphabetical\n",
    "* start exploring from letter a\n",
    "* write down order in which verticies are visited\n",
    "'''\n",
    "\n",
    "import string \n",
    "import time\n",
    "\n",
    "# initalize global array of visited\n",
    "global visited = [0] * G.num_vertices()\n",
    "global first = [0] * G.num_vertices()\n",
    "global last = [0] * G.num_vertices()\n",
    "global root = [0] * G.num_vertices()\n",
    "global Fcomp = [0] * G.num_vertices()\n",
    "tim\n",
    "# initalize out rooted tree at v as stack\n",
    "F = []\n",
    "    \n",
    "def DFS(Graph, v):\n",
    "    # mark vertex visited\n",
    "    visited[v] = 1\n",
    "    # loop through letters of alphabet\n",
    "    \n",
    "    for u in string.ascii_letters:\n",
    "        # if the edge exists and the vertex has not been visited, then \n",
    "        if Graph.isEdge(v, u) and visited[u] == 0:\n",
    "            # add the edge to F\n",
    "            F.append[u]\n",
    "            ##### CAN WE JUST STORE OUR TREE IN THE GRAPH???\n",
    "            # recursively run DFS from that vertex\n",
    "            DFS(G, u)\n",
    "    return F"
   ]
  },
  {
   "cell_type": "code",
   "execution_count": 29,
   "id": "23702098",
   "metadata": {
    "scrolled": true
   },
   "outputs": [
    {
     "ename": "NameError",
     "evalue": "name 'a' is not defined",
     "output_type": "error",
     "traceback": [
      "\u001b[0;31m---------------------------------------------------------------------------\u001b[0m",
      "\u001b[0;31mNameError\u001b[0m                                 Traceback (most recent call last)",
      "Input \u001b[0;32mIn [29]\u001b[0m, in \u001b[0;36m<cell line: 1>\u001b[0;34m()\u001b[0m\n\u001b[0;32m----> 1\u001b[0m DFS(G, \u001b[43ma\u001b[49m)\n",
      "\u001b[0;31mNameError\u001b[0m: name 'a' is not defined"
     ]
    }
   ],
   "source": [
    "DFS(G, a)"
   ]
  },
  {
   "cell_type": "markdown",
   "id": "367702e3",
   "metadata": {},
   "source": [
    "b. Using DFS routine, implement the O(n + m) time algorithm which detects whether a graph has a\n",
    "cycle or not, and if so returns the cycle. Read the directed graph in the file graph3.txt and run\n",
    "your code on it. Write down what you get. (10 points)\n",
    "\n"
   ]
  },
  {
   "cell_type": "code",
   "execution_count": null,
   "id": "b61201e8",
   "metadata": {},
   "outputs": [],
   "source": []
  },
  {
   "cell_type": "markdown",
   "id": "c62ef863",
   "metadata": {},
   "source": [
    "c. Implement the algorithm to find strongly connected components in a directed graph. For each of\n",
    "the following graphs, return the (a) number of strongly connected components, and (b) the number\n",
    "of vertices in the SCC in the one with the maximum number of vertices, and (c) how many seconds\n",
    "it took to run your code. Run it on a toy example to see if it’s running correctly. For instance, on\n",
    "graph2.txt, the number of SCCs are 7 and the largest one 5 vertices.\n",
    "You may not be able to run on the second graph if you use the recursive implementation of DFS. The\n",
    "10 points are for the stack implementation\n",
    "\n",
    "* epinions.txt (has 130K nodes and 840K edges) (5 points)\n",
    "* googlemaps.txt (has 2M nodes and 2.8M edges) (10 points)"
   ]
  },
  {
   "cell_type": "code",
   "execution_count": null,
   "id": "1af5a243",
   "metadata": {},
   "outputs": [],
   "source": []
  },
  {
   "cell_type": "markdown",
   "id": "c4fa9aae",
   "metadata": {},
   "source": [
    "d. Implement a subroutine which takes a directed graph G (not necessarily acyclic) as input and finds\n",
    "as long a directed path as it can. Also implement a subroutine check_path(G,p) which takes\n",
    "a graph G and a list p and returns TRUE if p is indeed a path in G: so, all entries of p are vertices,\n",
    "nothing is repeated in p, and adjacent vertices form edges. This will let you check if the path you\n",
    "return is indeed a path in the graphs or not.\n",
    "In the iPython/pdf file you must first clearly and succinctly describe the algorithm you will be using\n",
    "to implement the above longest path routine.\n",
    "\n",
    "Next, read the directed graphs in the files challenge1.txt and challenge2.txt and for each\n",
    "of them write (a) what is the length of the path returned by your algorithm, (b) did check_path\n",
    "certify this path, and (c) how long (in seconds) did your code take to do so. Furthermore, in your code\n",
    "you also have to write what your paths are as a comment (so that the graders can check by running\n",
    "check_path).\n",
    "\n",
    "If there is a team which beats every other team in both graphs, then they get a +2 points. (10 points)"
   ]
  },
  {
   "cell_type": "code",
   "execution_count": null,
   "id": "d7e3379f",
   "metadata": {},
   "outputs": [],
   "source": []
  }
 ],
 "metadata": {
  "kernelspec": {
   "display_name": "Python 3 (ipykernel)",
   "language": "python",
   "name": "python3"
  },
  "language_info": {
   "codemirror_mode": {
    "name": "ipython",
    "version": 3
   },
   "file_extension": ".py",
   "mimetype": "text/x-python",
   "name": "python",
   "nbconvert_exporter": "python",
   "pygments_lexer": "ipython3",
   "version": "3.9.13"
  }
 },
 "nbformat": 4,
 "nbformat_minor": 5
}
