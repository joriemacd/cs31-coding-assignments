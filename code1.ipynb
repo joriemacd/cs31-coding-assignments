{
 "cells": [
  {
   "cell_type": "markdown",
   "id": "cc5094c7",
   "metadata": {},
   "source": [
    "### Instructions: \n",
    "Ideally, every functions input-output spec should be in a comment. If the code is big, the purpose of every relevant smaller for/while loop should be annotated.\n"
   ]
  },
  {
   "cell_type": "markdown",
   "id": "1f72f679",
   "metadata": {},
   "source": [
    "#### Problem 1. (15 points)\n",
    "Implement the DIVIDE algorithm in the Lecture 3 module with the following changes.\n",
    "* Your code takes input the two numbers in decimal notation instead of the binary notation. DONE\n",
    "* You are going to calculate your “running time” as follows: any time your code adds or subtracts two numbers a and b, it costs max(Na, Nb) where Na and Nb are the number of digits in a and b.\n",
    "* However, when an even number is incremented by 1, in that case the “running time” is only 1 (even if the even number has many digits).\n",
    "* Multiplying by 2, or dividing by 2 and taking floors, is not to be counted in your “running time”.\n",
    "* You should output, along with the quotient and the remainder, the total “running time” of your code.\n",
    "\n",
    "To give an example, if we call DIVIDE(5, 2) it calls DIVIDE(2, 2) which returns (1, 0), which becomes (2,0) in the call of DIVIDE, and since 5 is odd, we increment it to (2,1). The final increment step costs 1-unit, and this is the total time. As another example, if you call DIVIDE(21, 15) it calls DIVIDE (10, 15) which returns (0, 10); this becomes (0, 20) upon doubling, and since 21 is odd, we increment it to (0, 21). This increment costs 1 unit. 21 > 15, thus, we subtract 21 − 15 to get 6. This subtraction costs 2 units since both 21 and 15 are 2 digits. And, the quotient is incremented, and this costs another 1 unit of time. Thus, the final answer is (1, 6) and the total time is 1 + 2 + 1 = 4 units.\n",
    "What is the answer when run with (30294982, 2124234)?"
   ]
  },
  {
   "cell_type": "code",
   "execution_count": 1,
   "id": "c5993436",
   "metadata": {},
   "outputs": [],
   "source": [
    "# NEED TO ADD the runtime parts\n",
    "\n",
    "# procedure DIVIDE (x, y):\n",
    "# takes numbers in decimal notation instead of binary notation!!!\n",
    "# procedure divide where x is the number being divided and y is the divisor\n",
    "# returns quotient, remainder, and total \"runtime\"\n",
    "# each time it adds or subtracts two numbers a b, it costs max(Na, Nb) <-- Na, Nb = # digits in a, b\n",
    "import math\n",
    "\n",
    "# rt -- runtime variable stores each subcomponent of the runtime -- when incrementing, should do a plus equals so\n",
    "# it works recursively\n",
    "# TODO -- explain inputs/outputs for function\n",
    "# TODO -- preconditions and postconditions\n",
    "\n",
    "# input x = dividend, input x = the divisor, input rt = the run time, with default value 0\n",
    "\n",
    "def divide(x, y, rt = 0):\n",
    "    # base case 1 -- if divisor is less than dividend, return quotient = 0 and the remainder, i.e., the dividend.\n",
    "    if x < y :\n",
    "        return (0, x, rt)\n",
    "    # base case 2 -- if number is equal to divisor, return quotient = 1 and the remainder = 0\n",
    "    if x == y : \n",
    "        return (1, 0, rt)\n",
    "    # we find x2\n",
    "    x2 = math.floor(x/2)\n",
    "    # recursive call\n",
    "    q2, r2, rt = divide(x2, y)\n",
    "    # set r and q to two times the remainder and quotient returned from recursive call\n",
    "    q = 2 * q2\n",
    "    r = 2 * r2\n",
    "    if (x % 2 != 0) :\n",
    "        # TODO -- this is an uneven number\n",
    "        # when an even number is incremented by 1, the \"runtime\" is 1\n",
    "        r = r + 1\n",
    "        #increment up runtime by 1\n",
    "        rt += 1\n",
    "    if r >= y :\n",
    "        # increment runtime by max of number of digits in numbers being combined\n",
    "        q = q + 1\n",
    "        # q will always be greater or equal because we check the basecases\n",
    "        rt += len(str(q))\n",
    "        # increment runtime by max of number of digits in numbers being subtracted\n",
    "        r = r - y\n",
    "        rt += max(len(str(r)), len(str(y)))\n",
    "    return (q, r, rt)"
   ]
  },
  {
   "cell_type": "code",
   "execution_count": 2,
   "id": "8e701a87",
   "metadata": {},
   "outputs": [
    {
     "data": {
      "text/plain": [
       "(1, 6, 4)"
      ]
     },
     "execution_count": 2,
     "metadata": {},
     "output_type": "execute_result"
    }
   ],
   "source": [
    "divide(21, 15)"
   ]
  },
  {
   "cell_type": "code",
   "execution_count": 3,
   "id": "0a7dd8be",
   "metadata": {},
   "outputs": [
    {
     "data": {
      "text/plain": [
       "(5, 0, 5)"
      ]
     },
     "execution_count": 3,
     "metadata": {},
     "output_type": "execute_result"
    }
   ],
   "source": [
    "divide(20, 4)"
   ]
  },
  {
   "cell_type": "code",
   "execution_count": 4,
   "id": "0e2a8331",
   "metadata": {},
   "outputs": [
    {
     "data": {
      "text/plain": [
       "(3, 1, 6)"
      ]
     },
     "execution_count": 4,
     "metadata": {},
     "output_type": "execute_result"
    }
   ],
   "source": [
    "divide(19,6)"
   ]
  },
  {
   "cell_type": "markdown",
   "id": "bc5106b8",
   "metadata": {},
   "source": [
    "#### PROBLEM 1 CITATIONS: \n",
    "Adapted from divide algorithm shown in Division video on canvas. "
   ]
  },
  {
   "cell_type": "markdown",
   "id": "914bf9e9",
   "metadata": {},
   "source": [
    "#### Problem 2. (25 points)\n",
    "For a positve integer n, define An to be the array of single-digit non-negative integers containing the first\n",
    "n digits of π. So A1 = [3], A2 = [3,1], and so on. To remind you, the digits of π can be found on Canvas. In this assignment, we want to figure out the number of inversions in the array An. For this assignment, we are asking you to measure actual running time of your machine. For this, we suggest you import time and then time.time() returns the time past since a certain fixed point of time (Google this to find more). More importantly, taking a difference between two snapshots, one before a run of a function and one after, gives you a very good estimate of how long (in seconds) the function took.\n",
    "\n",
    "a. Implement the naive algorithm for counting inversions which goes over all pairs and just counts the number of inversions. (5 points)\n",
    "\n",
    "b. Implement the fastest counting inversions algorithm done in class/found in lecture notes.(15 points)\n",
    "\n",
    "c. Next, plot the following. On the x-axis, you have the numbers n going from 1 to 5000 increasing in jumps of 100. On the y-axis is the time taken by the two above implementations, part (a) and part (b),\n",
    "to count the number of inversions in the array An. (5 points)\n",
    "*After plotting the above two, make a solemn promise to yourself that you will think twice before coding\n",
    "a brute-force time algorithm *\n",
    "\n",
    "What is the number of inversions in A1000000, that is, what is the number of inversions in the first million\n",
    "digits of π?\n",
    "\n",
    "*The digits of π look pretty random. Assuming this, even before you code, do you have a guess of the ball- park in which the number of inversions should lie in? Later on, check if the answer you get lies in that ball park? If not, check your code.*\n"
   ]
  },
  {
   "cell_type": "code",
   "execution_count": 5,
   "id": "fbac690f",
   "metadata": {},
   "outputs": [],
   "source": [
    "# this helper function reads the n first numbers of pi and returns a list containing these\n",
    "# the function was given on canvas\n",
    "\n",
    "def read_pi(n):\n",
    "    #opens the file name \"pi\" and reads the first n digits\n",
    "    #puts it in the list pi, and returns that list\n",
    "    pi = list()\n",
    "    f = open('pi','r')\n",
    "    for i in range(n):\n",
    "        d = f.read(1)\n",
    "        pi.append(int(d))\n",
    "    return pi"
   ]
  },
  {
   "cell_type": "code",
   "execution_count": 6,
   "id": "9dc9403c",
   "metadata": {},
   "outputs": [],
   "source": [
    "# naive algorithm\n",
    "# count_inversions_naive(A)\n",
    "\n",
    "# input: array A\n",
    "# output: array A and count of inversions in A\n",
    "# size: n, the size of the array"
   ]
  },
  {
   "cell_type": "code",
   "execution_count": 7,
   "id": "6999c0d5",
   "metadata": {},
   "outputs": [],
   "source": [
    "import time\n",
    "\n",
    "def count_inversions_naive(A):\n",
    "    n = len(A); count = 0\n",
    "    # base case 1\n",
    "    # -- if the length of the array is 0 or 1, there are no inversions\n",
    "    if n == (0 or 1):\n",
    "        return 0\n",
    "    else:\n",
    "        time_val = time.time()\n",
    "        print(\"run time before entering loop: \", time_val - time_val)\n",
    "        # this loop iterates over all elements in A\n",
    "        for i in range(0, n):\n",
    "            # this loop compares A[i] with all the rest of the elements in A\n",
    "            for j in range(1, n):\n",
    "                # checks if there is an inversion and increments count when true\n",
    "                if  ((i < j) and (A[i] > A[j])):\n",
    "                    count += 1\n",
    "        print(\"run time after entering loop: \", time.time() - time_val )\n",
    "        return A, count"
   ]
  },
  {
   "cell_type": "code",
   "execution_count": 11,
   "id": "23d8fa30",
   "metadata": {},
   "outputs": [
    {
     "name": "stdout",
     "output_type": "stream",
     "text": [
      "run time before entering loop:  0.0\n",
      "run time after entering loop:  0.0009741783142089844\n"
     ]
    },
    {
     "data": {
      "text/plain": [
       "([3, 1, 4, 1, 5, 9, 2, 6, 5, 3, 5, 8, 9, 7, 9, 3, 2, 3, 8, 4], 67)"
      ]
     },
     "execution_count": 11,
     "metadata": {},
     "output_type": "execute_result"
    }
   ],
   "source": [
    "A = read_pi(20)\n",
    "count_inversions_naive(A)"
   ]
  },
  {
   "cell_type": "code",
   "execution_count": 12,
   "id": "6448963a",
   "metadata": {},
   "outputs": [],
   "source": [
    "# fastest counting inversions algorithm\n",
    "# sort_and_count\n",
    "   # combine\n",
    "   # count_cross_inv\n",
    "\n",
    "# input: an Array A[1:n]\n",
    "# output: the number of inversions in A\n",
    "# size: n, the size of the array\n"
   ]
  },
  {
   "cell_type": "code",
   "execution_count": 13,
   "id": "96271139",
   "metadata": {},
   "outputs": [],
   "source": [
    "def combine(P, Q):\n",
    "    R = []\n",
    "    # P and Q are sorted; outputs R a sorted array of elements in P and Q\n",
    "    i = 0; j = 0; k = 0;\n",
    "    while (i < len(P) and j < len(Q)):\n",
    "        if (P[i] <= Q[j]):\n",
    "            R.append(P[i])\n",
    "            i += 1\n",
    "        else:\n",
    "            R.append(Q[j])\n",
    "            j += 1;\n",
    "        k += 1\n",
    "    if (i > (len(P) - 1)):\n",
    "        while (j < len(Q)):\n",
    "            R.append(Q[j])\n",
    "            j += 1\n",
    "    else:\n",
    "        while (i < len(P)):\n",
    "            R.append(P[i])\n",
    "            i += 1\n",
    "    return R"
   ]
  },
  {
   "cell_type": "code",
   "execution_count": 14,
   "id": "02799fb1",
   "metadata": {},
   "outputs": [
    {
     "data": {
      "text/plain": [
       "[1, 2, 4, 10, 200, 300, 400]"
      ]
     },
     "execution_count": 14,
     "metadata": {},
     "output_type": "execute_result"
    }
   ],
   "source": [
    "combine([1,2,4],[10,200, 300, 400])"
   ]
  },
  {
   "cell_type": "code",
   "execution_count": 15,
   "id": "5c4019cf",
   "metadata": {},
   "outputs": [],
   "source": [
    "def count_cross_inv(P, Q):\n",
    "    # P and Q are sorted arrays; outputs the number of (i,j) with P[i]>Q[j]\n",
    "    i = 0; j = 0; num = 0\n",
    "    p = len(P); q = len(Q)\n",
    "    while (i < p) and (j < q):\n",
    "        if (P[i] > Q[j]):\n",
    "            num = num + p - i\n",
    "            j += 1\n",
    "            #break\n",
    "        else:\n",
    "            i += 1\n",
    "    return num;"
   ]
  },
  {
   "cell_type": "code",
   "execution_count": 16,
   "id": "1b111656",
   "metadata": {},
   "outputs": [
    {
     "data": {
      "text/plain": [
       "4"
      ]
     },
     "execution_count": 16,
     "metadata": {},
     "output_type": "execute_result"
    }
   ],
   "source": [
    "count_cross_inv([1,3,5, 6,7],[2,8])"
   ]
  },
  {
   "cell_type": "code",
   "execution_count": 17,
   "id": "b1c48be6",
   "metadata": {},
   "outputs": [],
   "source": [
    "import numpy as np\n",
    "import math\n",
    "def sort_and_count(A):\n",
    "# returns (b, i) where B = sort(A) and I is the number of inversions in A[1:n]\n",
    "    if (len(A) <= 1):\n",
    "        return (A, 0) #singleton array\n",
    "    m = math.floor(len(A)/2)\n",
    "    (b1, i1) =  sort_and_count(A[0:m])\n",
    "    (b2, i2) =  sort_and_count(A[m:])\n",
    "    c = count_cross_inv(b1, b2)\n",
    "    b = combine(b1, b2)\n",
    "    return (b, i1 + i2 + c)"
   ]
  },
  {
   "cell_type": "code",
   "execution_count": 18,
   "id": "30bf5733",
   "metadata": {
    "scrolled": true
   },
   "outputs": [
    {
     "name": "stdout",
     "output_type": "stream",
     "text": [
      "([1, 1, 2, 2, 3, 3, 3, 3, 4, 4, 5, 5, 5, 6, 7, 8, 8, 9, 9, 9], 67)\n"
     ]
    }
   ],
   "source": [
    "A = read_pi(20);\n",
    "\n",
    "print(sort_and_count(A))\n"
   ]
  },
  {
   "cell_type": "markdown",
   "id": "53e6ef2d",
   "metadata": {},
   "source": [
    "On the x-axis, you have the numbers n going from 1 to 5000 increasing in jumps of 100. On the y-axis is the time taken by the two above implementations, part (a) and part (b), to count the number of inversions in the array An. (5 points) *After plotting the above two, make a solemn promise to yourself that you will think twice before coding a brute-force time algorithm *"
   ]
  },
  {
   "cell_type": "code",
   "execution_count": 19,
   "id": "69c0750f",
   "metadata": {},
   "outputs": [
    {
     "name": "stdout",
     "output_type": "stream",
     "text": [
      "run time before entering loop:  0.0\n",
      "run time after entering loop:  0.0\n"
     ]
    },
    {
     "ename": "TypeError",
     "evalue": "'list' object cannot be interpreted as an integer",
     "output_type": "error",
     "traceback": [
      "\u001b[1;31m---------------------------------------------------------------------------\u001b[0m",
      "\u001b[1;31mTypeError\u001b[0m                                 Traceback (most recent call last)",
      "\u001b[1;32m~\\AppData\\Local\\Temp/ipykernel_3176/2040197567.py\u001b[0m in \u001b[0;36m<module>\u001b[1;34m\u001b[0m\n\u001b[0;32m      8\u001b[0m \u001b[1;32mfor\u001b[0m \u001b[0ma\u001b[0m \u001b[1;32min\u001b[0m \u001b[0mrange\u001b[0m\u001b[1;33m(\u001b[0m\u001b[1;36m0\u001b[0m\u001b[1;33m,\u001b[0m \u001b[1;36m5001\u001b[0m\u001b[1;33m,\u001b[0m \u001b[1;36m100\u001b[0m\u001b[1;33m)\u001b[0m\u001b[1;33m:\u001b[0m\u001b[1;33m\u001b[0m\u001b[1;33m\u001b[0m\u001b[0m\n\u001b[0;32m      9\u001b[0m     \u001b[0mdf2\u001b[0m\u001b[1;33m.\u001b[0m\u001b[0mloc\u001b[0m\u001b[1;33m[\u001b[0m\u001b[0ma\u001b[0m\u001b[1;33m]\u001b[0m\u001b[1;33m.\u001b[0m\u001b[0mnaive\u001b[0m \u001b[1;33m=\u001b[0m \u001b[0mcount_inversions_naive\u001b[0m\u001b[1;33m(\u001b[0m\u001b[0mread_pi\u001b[0m\u001b[1;33m(\u001b[0m\u001b[0ma\u001b[0m\u001b[1;33m)\u001b[0m\u001b[1;33m)\u001b[0m\u001b[1;33m[\u001b[0m\u001b[1;36m1\u001b[0m\u001b[1;33m]\u001b[0m\u001b[1;33m\u001b[0m\u001b[1;33m\u001b[0m\u001b[0m\n\u001b[1;32m---> 10\u001b[1;33m     \u001b[0mdf2\u001b[0m\u001b[1;33m.\u001b[0m\u001b[0mloc\u001b[0m\u001b[1;33m[\u001b[0m\u001b[0ma\u001b[0m\u001b[1;33m]\u001b[0m\u001b[1;33m.\u001b[0m\u001b[0mfast\u001b[0m \u001b[1;33m=\u001b[0m \u001b[0msort_and_count\u001b[0m\u001b[1;33m(\u001b[0m\u001b[0mread_pi\u001b[0m\u001b[1;33m(\u001b[0m\u001b[0mread_pi\u001b[0m\u001b[1;33m(\u001b[0m\u001b[0ma\u001b[0m\u001b[1;33m)\u001b[0m\u001b[1;33m)\u001b[0m\u001b[1;33m)\u001b[0m\u001b[1;33m[\u001b[0m\u001b[1;36m1\u001b[0m\u001b[1;33m]\u001b[0m\u001b[1;33m\u001b[0m\u001b[1;33m\u001b[0m\u001b[0m\n\u001b[0m",
      "\u001b[1;32m~\\AppData\\Local\\Temp/ipykernel_3176/4089399241.py\u001b[0m in \u001b[0;36mread_pi\u001b[1;34m(n)\u001b[0m\n\u001b[0;32m      7\u001b[0m     \u001b[0mpi\u001b[0m \u001b[1;33m=\u001b[0m \u001b[0mlist\u001b[0m\u001b[1;33m(\u001b[0m\u001b[1;33m)\u001b[0m\u001b[1;33m\u001b[0m\u001b[1;33m\u001b[0m\u001b[0m\n\u001b[0;32m      8\u001b[0m     \u001b[0mf\u001b[0m \u001b[1;33m=\u001b[0m \u001b[0mopen\u001b[0m\u001b[1;33m(\u001b[0m\u001b[1;34m'pi'\u001b[0m\u001b[1;33m,\u001b[0m\u001b[1;34m'r'\u001b[0m\u001b[1;33m)\u001b[0m\u001b[1;33m\u001b[0m\u001b[1;33m\u001b[0m\u001b[0m\n\u001b[1;32m----> 9\u001b[1;33m     \u001b[1;32mfor\u001b[0m \u001b[0mi\u001b[0m \u001b[1;32min\u001b[0m \u001b[0mrange\u001b[0m\u001b[1;33m(\u001b[0m\u001b[0mn\u001b[0m\u001b[1;33m)\u001b[0m\u001b[1;33m:\u001b[0m\u001b[1;33m\u001b[0m\u001b[1;33m\u001b[0m\u001b[0m\n\u001b[0m\u001b[0;32m     10\u001b[0m         \u001b[0md\u001b[0m \u001b[1;33m=\u001b[0m \u001b[0mf\u001b[0m\u001b[1;33m.\u001b[0m\u001b[0mread\u001b[0m\u001b[1;33m(\u001b[0m\u001b[1;36m1\u001b[0m\u001b[1;33m)\u001b[0m\u001b[1;33m\u001b[0m\u001b[1;33m\u001b[0m\u001b[0m\n\u001b[0;32m     11\u001b[0m         \u001b[0mpi\u001b[0m\u001b[1;33m.\u001b[0m\u001b[0mappend\u001b[0m\u001b[1;33m(\u001b[0m\u001b[0mint\u001b[0m\u001b[1;33m(\u001b[0m\u001b[0md\u001b[0m\u001b[1;33m)\u001b[0m\u001b[1;33m)\u001b[0m\u001b[1;33m\u001b[0m\u001b[1;33m\u001b[0m\u001b[0m\n",
      "\u001b[1;31mTypeError\u001b[0m: 'list' object cannot be interpreted as an integer"
     ]
    }
   ],
   "source": [
    "# want to create table that loops through\n",
    "# each number from 1 - 5000, increasing by 100\n",
    "# puts into table, as \n",
    "import pandas as pd\n",
    "\n",
    "cols = ['naive', 'fast']\n",
    "df2 = pd.DataFrame(columns=cols, index=range(0, 5001, 100))\n",
    "for a in range(0, 5001, 100):\n",
    "    df2.loc[a].naive = count_inversions_naive(read_pi(a))[1]\n",
    "    df2.loc[a].fast = sort_and_count(read_pi(read_pi(a)))[1]"
   ]
  },
  {
   "cell_type": "code",
   "execution_count": 21,
   "id": "df707a80",
   "metadata": {},
   "outputs": [
    {
     "name": "stdout",
     "output_type": "stream",
     "text": [
      "run time before entering loop:  0.0\n",
      "run time after entering loop:  0.0\n"
     ]
    },
    {
     "data": {
      "text/plain": [
       "([3, 1, 4, 1, 5, 9, 2, 6, 5, 3, 5, 8, 9, 7, 9, 3, 2, 3, 8, 4], 67)"
      ]
     },
     "execution_count": 21,
     "metadata": {},
     "output_type": "execute_result"
    }
   ],
   "source": [
    "count_inversions_naive(read_pi(20))\n"
   ]
  },
  {
   "cell_type": "code",
   "execution_count": null,
   "id": "d4fca233",
   "metadata": {},
   "outputs": [],
   "source": [
    "print(df2)"
   ]
  },
  {
   "cell_type": "code",
   "execution_count": 5,
   "id": "8698f8e2",
   "metadata": {},
   "outputs": [
    {
     "data": {
      "image/png": "[encoded data removed]",
      "text/plain": [
       "<Figure size 432x288 with 1 Axes>"
      ]
     },
     "metadata": {
      "needs_background": "light"
     },
     "output_type": "display_data"
    }
   ],
   "source": [
    "import matplotlib.pyplot as plt\n",
    "plt.plot([1,2,3,4])\n",
    "plt.xlabel('numbers')\n",
    "plt.xticks([1, 100, 200, 300, 400, 500, 600, 700, 800, 900, 1000, 1100, 1200, 1300, 1400, 1500, 1600, 1700, 1800, 1900, 2000, 2100, 2200, 2300, 2400, 2500, 2600, 2700, 2800, 2900, 3000, 3100, 3200, 3300, 3400, 3500, 3600, 3700, 3800, 3900, 4000, 4100, 4200, 4300, 4400, 4500, 4600, 4700, 4800, 4900, 5000])\n",
    "plt.ylabel('time')\n",
    "plt.show()"
   ]
  },
  {
   "cell_type": "code",
   "execution_count": null,
   "id": "d5fb5149",
   "metadata": {},
   "outputs": [],
   "source": [
    "import seaborn as sns\n",
    "sns.set_theme()\n"
   ]
  },
  {
   "cell_type": "code",
   "execution_count": null,
   "id": "318d48d6",
   "metadata": {},
   "outputs": [],
   "source": [
    "def convert_list_to_int(L):\n",
    "    #Takes a list of single digit integers and makes it into one single integer read left to write\n",
    "    #Again, it makes a string concatenating the whole list\n",
    "    #and then uses the int() function\n",
    "    s = \"\"\n",
    "    for i in L:\n",
    "        s = s + str(i)\n",
    "    return int(s)"
   ]
  },
  {
   "cell_type": "code",
   "execution_count": null,
   "id": "daa683da",
   "metadata": {},
   "outputs": [],
   "source": [
    "def read_countries():\n",
    "    #opens the file named \"country.txt\" \n",
    "    #returns a list of all countries which are 7 letters or more (counting spaces)\n",
    "    #all lower case\n",
    "    countries = list()\n",
    "    with open(\"countries.txt\") as file:\n",
    "        for line in file: \n",
    "            line = line.strip() #or some other preprocessing\n",
    "            if(len(line) > 6):\n",
    "                c = line.lower()    \n",
    "                countries.append(c)\n",
    "    return countries"
   ]
  },
  {
   "cell_type": "code",
   "execution_count": 20,
   "id": "5b8fd5eb",
   "metadata": {},
   "outputs": [],
   "source": [
    "def convert_int_to_list(N):\n",
    "    #takes a number N and makes a list with its single digits\n",
    "    #Example: it takes 1729 and forms [1,7,2,9]\n",
    "    L = list()\n",
    "    s = str(N) #make N into a string\n",
    "    for i in s:\n",
    "        L.append(int(i))\n",
    "    return L\n",
    "    #The above can be succinctly written as \"return [int(i) for i in str(N)]\" \n",
    "    #That would be much faster"
   ]
  },
  {
   "cell_type": "code",
   "execution_count": null,
   "id": "261aa064",
   "metadata": {},
   "outputs": [],
   "source": []
  }
 ],
 "metadata": {
  "kernelspec": {
   "display_name": "Python 3 (ipykernel)",
   "language": "python",
   "name": "python3"
  },
  "language_info": {
   "codemirror_mode": {
    "name": "ipython",
    "version": 3
   },
   "file_extension": ".py",
   "mimetype": "text/x-python",
   "name": "python",
   "nbconvert_exporter": "python",
   "pygments_lexer": "ipython3",
   "version": "3.9.7"
  }
 },
 "nbformat": 4,
 "nbformat_minor": 5
}
