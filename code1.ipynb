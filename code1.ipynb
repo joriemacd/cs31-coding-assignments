{
 "cells": [
  {
   "cell_type": "markdown",
   "id": "1f72f679",
   "metadata": {},
   "source": [
    "# Problem 1. (15 points)\n",
    "Implement the DIVIDE algorithm in the Lecture 3 module with the following changes.\n",
    "* Your code takes input the two numbers in decimal notation instead of the binary notation. DONE\n",
    "* You are going to calculate your “running time” as follows: any time your code adds or subtracts two numbers a and b, it costs max(Na, Nb) where Na and Nb are the number of digits in a and b.\n",
    "* However, when an even number is incremented by 1, in that case the “running time” is only 1 (even if the even number has many digits).\n",
    "* Multiplying by 2, or dividing by 2 and taking floors, is not to be counted in your “running time”.\n",
    "* You should output, along with the quotient and the remainder, the total “running time” of your code.\n",
    "\n",
    "To give an example, if we call DIVIDE(5, 2) it calls DIVIDE(2, 2) which returns (1, 0), which becomes (2,0) in the call of DIVIDE, and since 5 is odd, we increment it to (2,1). The final increment step costs 1-unit, and this is the total time. As another example, if you call DIVIDE(21, 15) it calls DIVIDE (10, 15) which returns (0, 10); this becomes (0, 20) upon doubling, and since 21 is odd, we increment it to (0, 21). This increment costs 1 unit. 21 > 15, thus, we subtract 21 − 15 to get 6. This subtraction costs 2 units since both 21 and 15 are 2 digits. And, the quotient is incremented, and this costs another 1 unit of time. Thus, the final answer is (1, 6) and the total time is 1 + 2 + 1 = 4 units.\n",
    "What is the answer when run with (30294982, 2124234)?"
   ]
  },
  {
   "cell_type": "code",
   "execution_count": 69,
   "id": "c5993436",
   "metadata": {},
   "outputs": [],
   "source": [
    "'''\n",
    "procedure DIVIDE (x, y):\n",
    "takes numbers in decimal notation instead of binary notation!!!\n",
    "procedure divide where x is the number being divided and y is the divisor\n",
    "returns quotient, remainder, and total \"runtime\"\n",
    "each time it adds or subtracts two numbers a b, it costs max(Na, Nb) <-- Na, Nb = # digits in a, b\n",
    "'''\n",
    "\n",
    "import math\n",
    "\n",
    "# rt -- runtime variable stores each subcomponent of the runtime -- when incrementing, should do a plus equals so\n",
    "# it works recursively\n",
    "# TODO -- explain inputs/outputs for function\n",
    "# TODO -- preconditions and postconditions\n",
    "\n",
    "# input x = dividend, input x = the divisor, input rt = the run time, with default value 0\n",
    "\n",
    "def divide(x, y, rt = 0):\n",
    "    # base case 1 -- if divisor is less than dividend, return quotient = 0 and the remainder, i.e., the dividend.\n",
    "    if x < y :\n",
    "        return (0, x, rt)\n",
    "    # base case 2 -- if number is equal to divisor, return quotient = 1 and the remainder = 0\n",
    "    if x == y : \n",
    "        return (1, 0, rt)\n",
    "    # we find x2\n",
    "    x2 = math.floor(x/2)\n",
    "    # recursive call\n",
    "    q2, r2, rt = divide(x2, y)\n",
    "    # set r and q to two times the remainder and quotient returned from recursive call\n",
    "    q = 2 * q2\n",
    "    r = 2 * r2\n",
    "    if (x % 2 != 0) :\n",
    "        # TODO -- this is an uneven number\n",
    "        # when an even number is incremented by 1, the \"runtime\" is 1\n",
    "        r = r + 1\n",
    "        #increment up runtime by 1\n",
    "        rt += 1\n",
    "    if r >= y :\n",
    "        # increment runtime by max of number of digits in numbers being combined\n",
    "        q = q + 1\n",
    "        # q will always be greater or equal because we check the basecases\n",
    "        rt += len(str(q))\n",
    "        # increment runtime by max of number of digits in numbers being subtracted\n",
    "        r = r - y\n",
    "        rt += max(len(str(r)), len(str(y)))\n",
    "    return (q, r, rt)"
   ]
  },
  {
   "cell_type": "markdown",
   "id": "a0df14d4",
   "metadata": {},
   "source": [
    "#### What is the answer when run with (30294982, 2124234)?"
   ]
  },
  {
   "cell_type": "code",
   "execution_count": 119,
   "id": "7205b772",
   "metadata": {},
   "outputs": [
    {
     "data": {
      "text/plain": [
       "(14, 555706, 26)"
      ]
     },
     "execution_count": 119,
     "metadata": {},
     "output_type": "execute_result"
    }
   ],
   "source": [
    "divide(30294982, 2124234)"
   ]
  },
  {
   "cell_type": "markdown",
   "id": "ea46c723",
   "metadata": {},
   "source": [
    "So, the answer is **26**."
   ]
  },
  {
   "cell_type": "markdown",
   "id": "bc5106b8",
   "metadata": {},
   "source": [
    "### PROBLEM 1 CITATIONS: \n",
    "Adapted from divide algorithm shown in Division video on canvas. "
   ]
  },
  {
   "cell_type": "markdown",
   "id": "914bf9e9",
   "metadata": {},
   "source": [
    "# Problem 2. (25 points)\n",
    "For a positive integer n, define An to be the array of single-digit non-negative integers containing the first\n",
    "n digits of π. So A1 = [3], A2 = [3,1], and so on. To remind you, the digits of π can be found on Canvas. In this assignment, we want to figure out the number of inversions in the array An. For this assignment, we are asking you to measure actual running time of your machine. For this, we suggest you import time and then time.time() returns the time past since a certain fixed point of time (Google this to find more). More importantly, taking a difference between two snapshots, one before a run of a function and one after, gives you a very good estimate of how long (in seconds) the function took.\n",
    "\n",
    "a. Implement the naive algorithm for counting inversions which goes over all pairs and just counts the number of inversions. (5 points)\n",
    "\n",
    "b. Implement the fastest counting inversions algorithm done in class/found in lecture notes.(15 points)\n",
    "\n",
    "c. Next, plot the following. On the x-axis, you have the numbers n going from 1 to 5000 increasing in jumps of 100. On the y-axis is the time taken by the two above implementations, part (a) and part (b),\n",
    "to count the number of inversions in the array An. (5 points)\n",
    "*After plotting the above two, make a solemn promise to yourself that you will think twice before coding\n",
    "a brute-force time algorithm *\n",
    "\n",
    "What is the number of inversions in A1000000, that is, what is the number of inversions in the first million\n",
    "digits of π?\n",
    "\n",
    "*The digits of π look pretty random. Assuming this, even before you code, do you have a guess of the ball- park in which the number of inversions should lie in? Later on, check if the answer you get lies in that ball park? If not, check your code.*\n"
   ]
  },
  {
   "cell_type": "markdown",
   "id": "a92aa8fe",
   "metadata": {},
   "source": [
    "#### a. Implement the naive algorithm for counting inversions which goes over all pairs and just counts the number of inversions. (5 points)"
   ]
  },
  {
   "cell_type": "code",
   "execution_count": 73,
   "id": "fbac690f",
   "metadata": {},
   "outputs": [],
   "source": [
    "'''\n",
    "helper function reading the n first numbers of pi and returns a list containing these,\n",
    "the function was given on canvas\n",
    "'''\n",
    "\n",
    "def read_pi(n):\n",
    "    #opens the file name \"pi\" and reads the first n digits\n",
    "    #puts it in the list pi, and returns that list\n",
    "    pi = list()\n",
    "    f = open('pi','r')\n",
    "    for i in range(n):\n",
    "        d = f.read(1)\n",
    "        pi.append(int(d))\n",
    "    return pi"
   ]
  },
  {
   "cell_type": "code",
   "execution_count": 80,
   "id": "6999c0d5",
   "metadata": {},
   "outputs": [],
   "source": [
    "'''\n",
    "naive algorithm\n",
    "count_inversions_naive(A)\n",
    "\n",
    "input: array A\n",
    "output: array A and count of inversions in A\n",
    "size: n, the size of the array\n",
    "'''\n",
    "import time\n",
    "\n",
    "def count_inversions_naive(A):\n",
    "    n = len(A); count = 0\n",
    "    # base case 1\n",
    "    # -- if the length of the array is 0 or 1, there are no inversions\n",
    "    if n == (0 or 1):\n",
    "        return 0\n",
    "    else:\n",
    "        time_val = time.time()\n",
    "        #print(\"run time before entering loop: \", time_val - time_val)\n",
    "        # this loop iterates over all elements in A\n",
    "        for i in range(0, n):\n",
    "            # this loop compares A[i] with all the rest of the elements in A\n",
    "            for j in range(1, n):\n",
    "                # checks if there is an inversion and increments count when true\n",
    "                if  ((i < j) and (A[i] > A[j])):\n",
    "                    count += 1\n",
    "        #print(\"run time after entering loop: \", time.time() - time_val )\n",
    "        #store total runtime as variable, return runtime\n",
    "        run_time = time.time() - time_val\n",
    "        return A, count, run_time"
   ]
  },
  {
   "cell_type": "markdown",
   "id": "c5976769",
   "metadata": {},
   "source": [
    " #### b. Implement the fastest counting inversions algorithm done in class/found in lecture notes.(15 points)"
   ]
  },
  {
   "cell_type": "code",
   "execution_count": 83,
   "id": "96271139",
   "metadata": {},
   "outputs": [],
   "source": [
    "# fastest counting inversions algorithm\n",
    "# sort_and_count\n",
    "   # combine\n",
    "   # count_cross_inv\n",
    "\n",
    "# input: an Array A[1:n]\n",
    "# output: the number of inversions in A\n",
    "# size: n, the size of the array\n",
    "\n",
    "\n",
    "def combine(P, Q):\n",
    "    R = []\n",
    "    # P and Q are sorted; outputs R a sorted array of elements in P and Q\n",
    "    i = 0; j = 0; k = 0;\n",
    "    while (i < len(P) and j < len(Q)):\n",
    "        if (P[i] <= Q[j]):\n",
    "            R.append(P[i])\n",
    "            i += 1\n",
    "        else:\n",
    "            R.append(Q[j])\n",
    "            j += 1;\n",
    "        k += 1\n",
    "    if (i > (len(P) - 1)):\n",
    "        while (j < len(Q)):\n",
    "            R.append(Q[j])\n",
    "            j += 1\n",
    "    else:\n",
    "        while (i < len(P)):\n",
    "            R.append(P[i])\n",
    "            i += 1\n",
    "    return R"
   ]
  },
  {
   "cell_type": "code",
   "execution_count": 85,
   "id": "5c4019cf",
   "metadata": {},
   "outputs": [],
   "source": [
    "def count_cross_inv(P, Q):\n",
    "    # P and Q are sorted arrays; outputs the number of (i,j) with P[i]>Q[j]\n",
    "    i = 0; j = 0; num = 0\n",
    "    p = len(P); q = len(Q)\n",
    "    while (i < p) and (j < q):\n",
    "        if (P[i] > Q[j]):\n",
    "            num = num + p - i\n",
    "            j += 1\n",
    "            #break\n",
    "        else:\n",
    "            i += 1\n",
    "    return num;"
   ]
  },
  {
   "cell_type": "code",
   "execution_count": 108,
   "id": "b1c48be6",
   "metadata": {},
   "outputs": [],
   "source": [
    "import numpy as np\n",
    "import math\n",
    "# returns (b, i) where B = sort(A) and I is the number of inversions in A[1:n]\n",
    "def sort_and_count(A):\n",
    "    time_val = time.time()\n",
    "    if (len(A) <= 1):\n",
    "        return (A, 0, 0) #singleton array\n",
    "    else:\n",
    "        m = math.floor(len(A)/2)\n",
    "        (b1, i1, run_time) =  sort_and_count(A[0:m])\n",
    "        (b2, i2, run_time) =  sort_and_count(A[m:])\n",
    "        c = count_cross_inv(b1, b2)\n",
    "        b = combine(b1, b2)\n",
    "        #store total runtime as variable, return runtime\n",
    "        run_time = time.time() - time_val\n",
    "    return (b, (i1 + i2 + c), run_time)"
   ]
  },
  {
   "cell_type": "markdown",
   "id": "53e6ef2d",
   "metadata": {},
   "source": [
    "#### c. Next, plot the following. On the x-axis, you have the numbers n going from 1 to 5000 increasing in jumps of 100. On the y-axis is the time taken by the two above implementations, part (a) and part (b), to count the number of inversions in the array An. (5 points) *After plotting the above two, make a solemn promise to yourself that you will think twice before coding a brute-force time algorithm *"
   ]
  },
  {
   "cell_type": "code",
<<<<<<< Updated upstream
   "execution_count": 116,
   "id": "69c0750f",
   "metadata": {},
   "outputs": [],
=======
   "execution_count": 24,
   "id": "69c0750f",
   "metadata": {},
   "outputs": [
    {
     "name": "stdout",
     "output_type": "stream",
     "text": [
      "run time before entering loop:  0.0\n",
      "run time after entering loop:  0.0001652240753173828\n",
      "run time before entering loop:  0.0\n",
      "run time after entering loop:  0.0014791488647460938\n",
      "run time before entering loop:  0.0\n",
      "run time after entering loop:  0.008975505828857422\n",
      "run time before entering loop:  0.0\n",
      "run time after entering loop:  0.019188880920410156\n",
      "run time before entering loop:  0.0\n",
      "run time after entering loop:  0.038368940353393555\n",
      "run time before entering loop:  0.0\n",
      "run time after entering loop:  0.052248239517211914\n",
      "run time before entering loop:  0.0\n",
      "run time after entering loop:  0.07517528533935547\n",
      "run time before entering loop:  0.0\n",
      "run time after entering loop:  0.09361982345581055\n",
      "run time before entering loop:  0.0\n",
      "run time after entering loop:  0.15663814544677734\n",
      "run time before entering loop:  0.0\n",
      "run time after entering loop:  0.1829371452331543\n",
      "run time before entering loop:  0.0\n",
      "run time after entering loop:  0.2359015941619873\n",
      "run time before entering loop:  0.0\n",
      "run time after entering loop:  0.31264400482177734\n",
      "run time before entering loop:  0.0\n",
      "run time after entering loop:  0.4097785949707031\n",
      "run time before entering loop:  0.0\n",
      "run time after entering loop:  0.3719899654388428\n",
      "run time before entering loop:  0.0\n",
      "run time after entering loop:  0.5106663703918457\n",
      "run time before entering loop:  0.0\n",
      "run time after entering loop:  0.5522315502166748\n",
      "run time before entering loop:  0.0\n",
      "run time after entering loop:  0.6369774341583252\n",
      "run time before entering loop:  0.0\n",
      "run time after entering loop:  0.6731419563293457\n",
      "run time before entering loop:  0.0\n",
      "run time after entering loop:  0.8781521320343018\n",
      "run time before entering loop:  0.0\n",
      "run time after entering loop:  0.9089996814727783\n",
      "run time before entering loop:  0.0\n",
      "run time after entering loop:  0.9763624668121338\n",
      "run time before entering loop:  0.0\n",
      "run time after entering loop:  1.06927490234375\n",
      "run time before entering loop:  0.0\n",
      "run time after entering loop:  1.198378562927246\n",
      "run time before entering loop:  0.0\n",
      "run time after entering loop:  1.1956260204315186\n",
      "run time before entering loop:  0.0\n",
      "run time after entering loop:  1.6970748901367188\n",
      "run time before entering loop:  0.0\n",
      "run time after entering loop:  1.2277469635009766\n",
      "run time before entering loop:  0.0\n",
      "run time after entering loop:  0.9864161014556885\n",
      "run time before entering loop:  0.0\n",
      "run time after entering loop:  1.066171407699585\n",
      "run time before entering loop:  0.0\n",
      "run time after entering loop:  0.7988331317901611\n",
      "run time before entering loop:  0.0\n",
      "run time after entering loop:  0.5845127105712891\n",
      "run time before entering loop:  0.0\n",
      "run time after entering loop:  0.5914585590362549\n",
      "run time before entering loop:  0.0\n",
      "run time after entering loop:  0.6543104648590088\n",
      "run time before entering loop:  0.0\n",
      "run time after entering loop:  0.7390539646148682\n",
      "run time before entering loop:  0.0\n",
      "run time after entering loop:  0.7237710952758789\n",
      "run time before entering loop:  0.0\n",
      "run time after entering loop:  0.7858669757843018\n",
      "run time before entering loop:  0.0\n",
      "run time after entering loop:  0.8290157318115234\n",
      "run time before entering loop:  0.0\n"
     ]
    },
    {
     "ename": "KeyboardInterrupt",
     "evalue": "",
     "output_type": "error",
     "traceback": [
      "\u001b[1;31m---------------------------------------------------------------------------\u001b[0m",
      "\u001b[1;31mKeyboardInterrupt\u001b[0m                         Traceback (most recent call last)",
      "\u001b[1;32m~\\AppData\\Local\\Temp/ipykernel_3176/2332030791.py\u001b[0m in \u001b[0;36m<module>\u001b[1;34m\u001b[0m\n\u001b[0;32m      7\u001b[0m \u001b[0mdf2\u001b[0m \u001b[1;33m=\u001b[0m \u001b[0mpd\u001b[0m\u001b[1;33m.\u001b[0m\u001b[0mDataFrame\u001b[0m\u001b[1;33m(\u001b[0m\u001b[0mcolumns\u001b[0m\u001b[1;33m=\u001b[0m\u001b[0mcols\u001b[0m\u001b[1;33m,\u001b[0m \u001b[0mindex\u001b[0m\u001b[1;33m=\u001b[0m\u001b[0mrange\u001b[0m\u001b[1;33m(\u001b[0m\u001b[1;36m0\u001b[0m\u001b[1;33m,\u001b[0m \u001b[1;36m5001\u001b[0m\u001b[1;33m,\u001b[0m \u001b[1;36m100\u001b[0m\u001b[1;33m)\u001b[0m\u001b[1;33m)\u001b[0m\u001b[1;33m\u001b[0m\u001b[1;33m\u001b[0m\u001b[0m\n\u001b[0;32m      8\u001b[0m \u001b[1;32mfor\u001b[0m \u001b[0ma\u001b[0m \u001b[1;32min\u001b[0m \u001b[0mrange\u001b[0m\u001b[1;33m(\u001b[0m\u001b[1;36m0\u001b[0m\u001b[1;33m,\u001b[0m \u001b[1;36m5001\u001b[0m\u001b[1;33m,\u001b[0m \u001b[1;36m100\u001b[0m\u001b[1;33m)\u001b[0m\u001b[1;33m:\u001b[0m\u001b[1;33m\u001b[0m\u001b[1;33m\u001b[0m\u001b[0m\n\u001b[1;32m----> 9\u001b[1;33m     \u001b[0mdf2\u001b[0m\u001b[1;33m.\u001b[0m\u001b[0mloc\u001b[0m\u001b[1;33m[\u001b[0m\u001b[0ma\u001b[0m\u001b[1;33m]\u001b[0m\u001b[1;33m.\u001b[0m\u001b[0mnaive\u001b[0m \u001b[1;33m=\u001b[0m \u001b[0mcount_inversions_naive\u001b[0m\u001b[1;33m(\u001b[0m\u001b[0mread_pi\u001b[0m\u001b[1;33m(\u001b[0m\u001b[0ma\u001b[0m\u001b[1;33m)\u001b[0m\u001b[1;33m)\u001b[0m\u001b[1;33m[\u001b[0m\u001b[1;36m1\u001b[0m\u001b[1;33m]\u001b[0m\u001b[1;33m\u001b[0m\u001b[1;33m\u001b[0m\u001b[0m\n\u001b[0m\u001b[0;32m     10\u001b[0m     \u001b[0mdf2\u001b[0m\u001b[1;33m.\u001b[0m\u001b[0mloc\u001b[0m\u001b[1;33m[\u001b[0m\u001b[0ma\u001b[0m\u001b[1;33m]\u001b[0m\u001b[1;33m.\u001b[0m\u001b[0mfast\u001b[0m \u001b[1;33m=\u001b[0m \u001b[0msort_and_count\u001b[0m\u001b[1;33m(\u001b[0m\u001b[0mread_pi\u001b[0m\u001b[1;33m(\u001b[0m\u001b[0ma\u001b[0m\u001b[1;33m)\u001b[0m\u001b[1;33m)\u001b[0m\u001b[1;33m[\u001b[0m\u001b[1;36m1\u001b[0m\u001b[1;33m]\u001b[0m\u001b[1;33m\u001b[0m\u001b[1;33m\u001b[0m\u001b[0m\n",
      "\u001b[1;32m~\\AppData\\Local\\Temp/ipykernel_3176/1684735512.py\u001b[0m in \u001b[0;36mcount_inversions_naive\u001b[1;34m(A)\u001b[0m\n\u001b[0;32m     16\u001b[0m                 \u001b[1;31m# checks if there is an inversion and increments count when true\u001b[0m\u001b[1;33m\u001b[0m\u001b[1;33m\u001b[0m\u001b[0m\n\u001b[0;32m     17\u001b[0m                 \u001b[1;32mif\u001b[0m  \u001b[1;33m(\u001b[0m\u001b[1;33m(\u001b[0m\u001b[0mi\u001b[0m \u001b[1;33m<\u001b[0m \u001b[0mj\u001b[0m\u001b[1;33m)\u001b[0m \u001b[1;32mand\u001b[0m \u001b[1;33m(\u001b[0m\u001b[0mA\u001b[0m\u001b[1;33m[\u001b[0m\u001b[0mi\u001b[0m\u001b[1;33m]\u001b[0m \u001b[1;33m>\u001b[0m \u001b[0mA\u001b[0m\u001b[1;33m[\u001b[0m\u001b[0mj\u001b[0m\u001b[1;33m]\u001b[0m\u001b[1;33m)\u001b[0m\u001b[1;33m)\u001b[0m\u001b[1;33m:\u001b[0m\u001b[1;33m\u001b[0m\u001b[1;33m\u001b[0m\u001b[0m\n\u001b[1;32m---> 18\u001b[1;33m                     \u001b[0mcount\u001b[0m \u001b[1;33m+=\u001b[0m \u001b[1;36m1\u001b[0m\u001b[1;33m\u001b[0m\u001b[1;33m\u001b[0m\u001b[0m\n\u001b[0m\u001b[0;32m     19\u001b[0m         \u001b[0mprint\u001b[0m\u001b[1;33m(\u001b[0m\u001b[1;34m\"run time after entering loop: \"\u001b[0m\u001b[1;33m,\u001b[0m \u001b[0mtime\u001b[0m\u001b[1;33m.\u001b[0m\u001b[0mtime\u001b[0m\u001b[1;33m(\u001b[0m\u001b[1;33m)\u001b[0m \u001b[1;33m-\u001b[0m \u001b[0mtime_val\u001b[0m \u001b[1;33m)\u001b[0m\u001b[1;33m\u001b[0m\u001b[1;33m\u001b[0m\u001b[0m\n\u001b[0;32m     20\u001b[0m         \u001b[1;32mreturn\u001b[0m \u001b[0mA\u001b[0m\u001b[1;33m,\u001b[0m \u001b[0mcount\u001b[0m\u001b[1;33m\u001b[0m\u001b[1;33m\u001b[0m\u001b[0m\n",
      "\u001b[1;31mKeyboardInterrupt\u001b[0m: "
     ]
    }
   ],
>>>>>>> Stashed changes
   "source": [
    "'''\n",
    "Create loop that goes iterates through numbers a 0 to 5000 with step of 100, \n",
    "Calculates time to run both algorithms for a numbers of pi, and stores each runtime \n",
    "in pandas dataframe\n",
    "''' \n",
    "\n",
    "import pandas as pd\n",
    "# name columns\n",
    "cols = ['naive', 'fast']\n",
    "# create dataframe\n",
    "df = pd.DataFrame(columns=cols, index=range(0, 5001, 100))\n",
    "# loop through each value\n",
    "for a in range(0, 5001, 100):\n",
<<<<<<< Updated upstream
    "    # add time to run for naive algorithm\n",
    "    df.loc[a].naive = count_inversions_naive(read_pi(a))[2]\n",
    "    # add time to run for 'fast' algorithm\n",
    "    df.loc[a].fast = sort_and_count(read_pi(a))[2]\n",
    "\n",
    "### NEED TO DROP TOP COLUMN AND REPLACE WITH 1 INDEX AND VALUES?"
=======
    "    df2.loc[a].naive = count_inversions_naive(read_pi(a))[1]\n",
    "    df2.loc[a].fast = sort_and_count(read_pi(a))[1]"
>>>>>>> Stashed changes
   ]
  },
  {
   "cell_type": "code",
<<<<<<< Updated upstream
   "execution_count": 125,
   "id": "1bb9551f",
   "metadata": {
    "scrolled": true
   },
   "outputs": [
    {
     "data": {
      "text/html": [
       "<div>\n",
       "<style scoped>\n",
       "    .dataframe tbody tr th:only-of-type {\n",
       "        vertical-align: middle;\n",
       "    }\n",
       "\n",
       "    .dataframe tbody tr th {\n",
       "        vertical-align: top;\n",
       "    }\n",
       "\n",
       "    .dataframe thead th {\n",
       "        text-align: right;\n",
       "    }\n",
       "</style>\n",
       "<table border=\"1\" class=\"dataframe\">\n",
       "  <thead>\n",
       "    <tr style=\"text-align: right;\">\n",
       "      <th></th>\n",
       "      <th>naive</th>\n",
       "      <th>fast</th>\n",
       "    </tr>\n",
       "  </thead>\n",
       "  <tbody>\n",
       "    <tr>\n",
       "      <th>0</th>\n",
       "      <td>0.000001</td>\n",
       "      <td>0</td>\n",
       "    </tr>\n",
       "    <tr>\n",
       "      <th>100</th>\n",
       "      <td>0.000831</td>\n",
       "      <td>0.000519</td>\n",
       "    </tr>\n",
       "    <tr>\n",
       "      <th>200</th>\n",
       "      <td>0.003277</td>\n",
       "      <td>0.00108</td>\n",
       "    </tr>\n",
       "    <tr>\n",
       "      <th>300</th>\n",
       "      <td>0.007554</td>\n",
       "      <td>0.001714</td>\n",
       "    </tr>\n",
       "    <tr>\n",
       "      <th>400</th>\n",
       "      <td>0.01244</td>\n",
       "      <td>0.001949</td>\n",
       "    </tr>\n",
       "  </tbody>\n",
       "</table>\n",
       "</div>"
      ],
      "text/plain": [
       "        naive      fast\n",
       "0    0.000001         0\n",
       "100  0.000831  0.000519\n",
       "200  0.003277   0.00108\n",
       "300  0.007554  0.001714\n",
       "400   0.01244  0.001949"
      ]
     },
     "execution_count": 125,
     "metadata": {},
     "output_type": "execute_result"
    }
   ],
   "source": [
    "#display first 5 rows of dataframe\n",
    "df.head()"
=======
   "execution_count": 25,
   "id": "d4fca233",
   "metadata": {},
   "outputs": [
    {
     "name": "stdout",
     "output_type": "stream",
     "text": [
      "        naive     fast\n",
      "0           0        0\n",
      "100      2348     2348\n",
      "200      9482     9482\n",
      "300     21109    21109\n",
      "400     37823    37823\n",
      "500     57186    57186\n",
      "600     81152    81152\n",
      "700    109650   109650\n",
      "800    141836   141836\n",
      "900    183205   183205\n",
      "1000   223601   223601\n",
      "1100   268266   268266\n",
      "1200   319587   319587\n",
      "1300   372638   372638\n",
      "1400   437701   437701\n",
      "1500   497937   497937\n",
      "1600   561235   561235\n",
      "1700   643690   643690\n",
      "1800   715705   715705\n",
      "1900   799779   799779\n",
      "2000   881997   881997\n",
      "2100   969871   969871\n",
      "2200  1055985  1055985\n",
      "2300  1147530  1147530\n",
      "2400  1250554  1250554\n",
      "2500  1354555  1354555\n",
      "2600  1466388  1466388\n",
      "2700  1577812  1577812\n",
      "2800  1710492  1710492\n",
      "2900  1846264  1846264\n",
      "3000  1973492  1973492\n",
      "3100  2116148  2116148\n",
      "3200  2270888  2270888\n",
      "3300  2425633  2425633\n",
      "3400  2579391  2579391\n",
      "3500  2753691  2753691\n",
      "3600      NaN      NaN\n",
      "3700      NaN      NaN\n",
      "3800      NaN      NaN\n",
      "3900      NaN      NaN\n",
      "4000      NaN      NaN\n",
      "4100      NaN      NaN\n",
      "4200      NaN      NaN\n",
      "4300      NaN      NaN\n",
      "4400      NaN      NaN\n",
      "4500      NaN      NaN\n",
      "4600      NaN      NaN\n",
      "4700      NaN      NaN\n",
      "4800      NaN      NaN\n",
      "4900      NaN      NaN\n",
      "5000      NaN      NaN\n"
     ]
    }
   ],
   "source": [
    "print(df2)"
>>>>>>> Stashed changes
   ]
  },
  {
   "cell_type": "code",
<<<<<<< Updated upstream
   "execution_count": 126,
   "id": "818e482a",
   "metadata": {
    "scrolled": false
   },
   "outputs": [
    {
     "data": {
      "text/plain": [
       "<AxesSubplot:title={'center':\"Number 'n' vs. Time Taken to Implement\"}, xlabel=\"Number 'n'\", ylabel='Time (s)'>"
      ]
     },
     "execution_count": 126,
     "metadata": {},
     "output_type": "execute_result"
    },
    {
     "data": {
      "image/png": "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\n",
=======
   "execution_count": 26,
   "id": "8698f8e2",
   "metadata": {},
   "outputs": [
    {
     "data": {
      "image/png": "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\n",
>>>>>>> Stashed changes
      "text/plain": [
       "<Figure size 432x288 with 1 Axes>"
      ]
     },
     "metadata": {
      "needs_background": "light"
     },
     "output_type": "display_data"
    }
   ],
   "source": [
    "#plot the data against itself \n",
    "df.plot(title = 'Number \\'n\\' vs. Time Taken to Implement', xlabel= 'Number \\'n\\'', ylabel= 'Time (s)')"
   ]
  },
  {
<<<<<<< Updated upstream
   "cell_type": "markdown",
   "id": "c5db3263",
=======
   "cell_type": "code",
   "execution_count": 27,
   "id": "d5fb5149",
>>>>>>> Stashed changes
   "metadata": {},
   "source": [
    "#### What is the number of inversions in A1000000, that is, what is the number of inversions in the first million digits of π?"
   ]
  },
  {
   "cell_type": "code",
   "execution_count": 123,
   "id": "932ad7ce",
   "metadata": {},
   "outputs": [
    {
     "data": {
      "text/plain": [
       "224964173233"
      ]
     },
     "execution_count": 123,
     "metadata": {},
     "output_type": "execute_result"
    }
   ],
   "source": [
    "A = read_pi(1000000)\n",
    "sort_and_count(A)[1]"
   ]
  },
  {
   "cell_type": "markdown",
   "id": "4d40d89a",
   "metadata": {},
   "source": [
    "The number of inversions is **224964173233**."
   ]
  },
  {
   "cell_type": "markdown",
   "id": "61b882c7",
   "metadata": {},
   "source": [
    "### Credit Statement for Problem 2:\n",
    "Helper function \"read_pi\" taken from Canvas materials. "
   ]
  }
 ],
 "metadata": {
  "kernelspec": {
   "display_name": "Python 3 (ipykernel)",
   "language": "python",
   "name": "python3"
  },
  "language_info": {
   "codemirror_mode": {
    "name": "ipython",
    "version": 3
   },
   "file_extension": ".py",
   "mimetype": "text/x-python",
   "name": "python",
   "nbconvert_exporter": "python",
   "pygments_lexer": "ipython3",
   "version": "3.9.13"
  }
 },
 "nbformat": 4,
 "nbformat_minor": 5
}
