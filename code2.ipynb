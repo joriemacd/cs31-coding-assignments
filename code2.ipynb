{
 "cells": [
  {
   "cell_type": "markdown",
   "id": "53a43de1",
   "metadata": {},
   "source": [
    "# Problem 1 (Multiplying Polynomials) (40 Points)\n",
    "In this coding assignment, the inputs will be polynomials. As done in class, a degree n polynomial p(x) = p0 + p1x + p2x2 + ··· + pnxn is represented as an array P[0 : n] where P[i] contains the coefficient pi. The input to the functions you write should be two lists P [0 : n] and Q[0 : n], and the output should be R[0 : 2n] which contains the coefficients of the polynomial r(x) = p(x)q(x)."
   ]
  },
  {
   "cell_type": "markdown",
   "id": "4f2f3aad",
   "metadata": {},
   "source": [
    "#### (a) Implement the naive multiplication (which takes O(n2) time). Recall, this just implements the formula for rk given as (1) in the Lecture 6 notes. (5 points)"
   ]
  },
  {
   "cell_type": "code",
   "execution_count": 50,
   "id": "a94bde80",
   "metadata": {},
   "outputs": [],
   "source": [
    "'''\n",
    "input: P, Q are the two lists of polynomial coefficients\n",
    "output: R, runtime, and countime\n",
    "    R = the product of the two polynomials\n",
    "    run_time = the time measured with the time module of Python 3\n",
    "    count_time = the time as arithmetic operations\n",
    "\n",
    "given that P and Q are the same length [1: n], they must have the same order.\n",
    "'''\n",
    "\n",
    "# import statements\n",
    "import math\n",
    "import time\n",
    "\n",
    "# initialize global variable to measure time in \"arithmatic operations\"\n",
    "count_time = 0\n",
    "\n",
    "def multi_poly(P, Q, run_time = 0):\n",
    "    global count_time\n",
    "    # initalize empty array R to store coefficients of product polynomial\n",
    "    R = []; n = len(P) - 1; val = 0; time_val = time.time()\n",
    "    # base cases\n",
    "    if (len(P) == 0):\n",
    "        return ([],0,0)\n",
    "    # for k <= 2n\n",
    "    for k in range(0, 2 * n + 1):\n",
    "        if (k <= n):\n",
    "            val = 0\n",
    "            # for i <= k\n",
    "            for i in range(0, k + 1):\n",
    "                val = val + (P[i] * Q[k-i])\n",
    "                count_time = count_time + 1\n",
    "        else:\n",
    "            val = 0\n",
    "            for i in range(k - n, n + 1):\n",
    "                val = val + (P[i] * Q[k - i])\n",
    "                count_time = count_time + 1\n",
    "                \n",
    "        R.append(val)\n",
    "        \n",
    "    run_time = time.time() - time_val\n",
    "    count_time = count_time + n\n",
    "    return (R, run_time, count_time)"
   ]
  },
  {
   "cell_type": "code",
   "execution_count": 51,
   "id": "fad30a34",
   "metadata": {},
   "outputs": [
    {
     "data": {
      "text/plain": [
       "([2, 5, 3], 5.9604644775390625e-06, 5)"
      ]
     },
     "execution_count": 51,
     "metadata": {},
     "output_type": "execute_result"
    }
   ],
   "source": [
    "multi_poly([1,1],[2,3])"
   ]
  },
  {
   "cell_type": "markdown",
   "id": "71f0c2e1",
   "metadata": {},
   "source": [
    "#### (b) Implement Karatsuba’s algorithm done in class. If history is a guide, this is tricky to code mainly because you need to handle indices carefully. So be careful. (15 points)"
   ]
  },
  {
   "cell_type": "code",
   "execution_count": 52,
   "id": "01263f38",
   "metadata": {},
   "outputs": [],
   "source": [
    "''' \n",
    "input: Coefficients of two degree n polynomials: arrays P[0:n] \n",
    "        and Q[0:  n]\n",
    "output: Coefficient of the product polynomial: array R[0: 2n].\n",
    "size: n, the length of P and Q\n",
    "\n",
    "'''\n",
    "import time\n",
    "import math\n",
    "first_run = True\n",
    "time_val = 0\n",
    "run_time = 0\n",
    "\n",
    "#initialize count time to store arithmatic operations (add, subtract, or multiply two entries from some array)\n",
    "count_time = 0\n",
    "\n",
    "def karat_multi_poly(P, Q):\n",
    "    global first_run, count_time, time_val\n",
    "    # indexing from starting number to ending number\n",
    "    n = len(P) - 1; Px = []; Qx = []\n",
    "    if (first_run == True):\n",
    "        first_run = False\n",
    "        time_val = time.time()\n",
    "    # base cases, \n",
    "    if len(P) < 2:\n",
    "        # increment count time\n",
    "        count_time = count_time + 1\n",
    "        # return R using naive multiplication\n",
    "        return [P[0]*Q[0]]\n",
    "    # half and floor the array\n",
    "    m = math.ceil(n/2)\n",
    "    # loop through for all numbers 0 <= i <= m -1\n",
    "    #initalize new arrays Px and Qx\n",
    "    for i in range(0,m):\n",
    "        Px.append(P[i] + P[m + i])\n",
    "        Qx.append(Q[i] + Q[m + i])\n",
    "        # increment count time\n",
    "        count_time = count_time + 2\n",
    "\n",
    "    if (len(Px) < len(P) - len(Px)):\n",
    "        Px = Px + P[n:]\n",
    "        Qx = Qx + Q[n:]\n",
    "        # increment count time\n",
    "        count_time = count_time + 2\n",
    "\n",
    "    #R1 = multi_poly(P[0:m], Q[0:m])[0]\n",
    "    R1 = karat_multi_poly(P[0:m], Q[0:m])\n",
    "    \n",
    "    #R2 = multi_poly(P[m:n + 1], Q[m:n + 1])[0]\n",
    "    R2 = karat_multi_poly(P[m:n + 1], Q[m:n + 1])\n",
    "    \n",
    "    # array index range: [0: 2m]\n",
    "    # has coefficients of (p1(x)+ p2(x)) * (q1(x)+ q2(x))\n",
    "\n",
    "    R3 = karat_multi_poly(Px[0:m + 1],Qx[0:m + 1])\n",
    "\n",
    "    R4 = []\n",
    "    \n",
    "    # add together all countimes\n",
    "    \n",
    "    # loop through all numbers 0 <= i <2m\n",
    "    while len(R1) < len(R3):\n",
    "        R1.append(0)\n",
    "\n",
    "    for i in range(len(R3)):\n",
    "        R4.append(R3[i] - R1[i] - R2[i])\n",
    "        # increment count time\n",
    "        count_time = count_time + 1\n",
    "    \n",
    "    R1_pad = [0]*(len(P) + len(Q) - 1)\n",
    "    R2_pad = [0]*(len(P) + len(Q) - 1)\n",
    "    R4_pad = [0]*(len(P) + len(Q) - 1)\n",
    "    R1_pad[:len(R1)] = R1\n",
    "    R2_pad[len(R2_pad) - len(R2): ] = R2\n",
    "    R4_pad[m: m + len(R4)] = R4\n",
    "\n",
    "    R = [0]*(len(P) + len(Q) - 1)\n",
    "    \n",
    "    # loop through all numbers 0 <= i <2n\n",
    "    for i in range(len(R)):\n",
    "        R[i] = R1_pad[i] + R4_pad[i] + R2_pad[i]\n",
    "        # assume an array returns 0 if indexed out of range\n",
    "        # if i is less than range return 0\n",
    "        # if i is greater than range return 0\n",
    "    run_time = time.time() - time_val\n",
    "\n",
    "    return R"
   ]
  },
  {
   "cell_type": "code",
   "execution_count": 53,
   "id": "b2f72e4b",
   "metadata": {
    "scrolled": true
   },
   "outputs": [
    {
     "name": "stdout",
     "output_type": "stream",
     "text": [
      "[2, 5, 6, 4, 1] 0 20\n"
     ]
    }
   ],
   "source": [
    "# reset all global variables\n",
    "first_run = True\n",
    "count_time = 0\n",
    "time_val =0\n",
    "run_time = 0\n",
    "\n",
    "# run and return\n",
    "print(karat_multi_poly([1,1,1],[2,3,1]), run_time, count_time)\n"
   ]
  },
  {
   "cell_type": "markdown",
   "id": "a92d8577",
   "metadata": {},
   "source": [
    "#### (c) Given a number n, consider the polynomial pn(x) whose coefficient array Pn[0 : n] is defined as the first (n + 1)-digits of π. \n",
    "So, for instance,\n",
    "p0(x)=3, p1(x)=3+x, p2(x)=3+x+4x2, p3(x)=3+x+4x2 +x3,...\n",
    "Define rn(x) := pn(x) · pn(x), the square of the pn(x) polynomial. Let Sn be the sum of squares of the coefficients of the polynomial rn. So, for example, S0 = 81 (since r0(x) = p0(x)2 = 9 and so S0 =92),andS1 =118(sincer1(x)=p1(x)2 =9+6x+x2,and92 +62 +12 =118.)\n",
    "Write code calling the Karatsuba routine to find out S20000? Note: we need to at the 20001 digits of π to answer this question. (5 points)\n",
    "Even Karatsuba may take around a minute to run – don’t panic."
   ]
  },
  {
   "cell_type": "code",
   "execution_count": 55,
   "id": "1b65eec9",
   "metadata": {},
   "outputs": [],
   "source": [
    "'''\n",
    "helper function reading the n first numbers of pi and returns a list containing these,\n",
    "the function was given on canvas\n",
    "'''\n",
    "\n",
    "def read_pi(n):\n",
    "    #opens the file name \"pi\" and reads the first n digits\n",
    "    #puts it in the list pi, and returns that list\n",
    "    pi = list()\n",
    "    f = open('pi','r')\n",
    "    for i in range(n + 1):\n",
    "        d = f.read(1)\n",
    "        pi.append(int(d))\n",
    "    return pi"
   ]
  },
  {
   "cell_type": "code",
   "execution_count": 56,
   "id": "e279d583",
   "metadata": {},
   "outputs": [],
   "source": [
    "def square_pi_poly(n):\n",
    "    # s is the sum of squares of the coefficients of the polynomial\n",
    "    s = 0\n",
    "    # read the first (n + 1) digits of pi\n",
    "    P = read_pi(n)\n",
    "    # TODO -- comment out\n",
    "    # when we have karatsuba\n",
    "    # call karatsuba's algorithm to get R, i.e.,\n",
    "    # the square of the P(n) polynomial\n",
    "    R = multi_poly(P, P)\n",
    "    n = len(R[0])\n",
    "    for i in range(0, n):\n",
    "        s = s + math.pow(R[0][i],2)\n",
    "    \n",
    "    return s"
   ]
  },
  {
   "cell_type": "code",
   "execution_count": 112,
   "id": "e1f4ce58",
   "metadata": {
    "scrolled": true
   },
   "outputs": [
    {
     "name": "stdout",
     "output_type": "stream",
     "text": [
      "2192522453709283.0\n"
     ]
    }
   ],
   "source": [
    "print(square_pi_poly(20000))\n",
    "# S_20000 = 2192522453709283.0"
   ]
  },
  {
   "cell_type": "markdown",
   "id": "76c10bd0",
   "metadata": {},
   "source": [
    "#### (d) In this part, you will find out at roughly what n does the Karatsuba algorithm “beat” the Naive algo- rithm. But we will measure “time” in two ways."
   ]
  },
  {
   "cell_type": "markdown",
   "id": "706bfed7",
   "metadata": {},
   "source": [
    "*(i) First, we measure time using the time module of Python 3. Plot, as a function of n, n going from 1 to 10, 000 in jumps of 100, the time taken by both algorithms to compute rn(x). Show these two “curves” overlaid on the same plot. Clearly mark which is which. At roughly what n do you see Karatsuba “beating” the naive algorithm (if at all)? (5 points)*"
   ]
  },
  {
   "cell_type": "code",
   "execution_count": 57,
   "id": "2ecbeda6",
   "metadata": {},
   "outputs": [
    {
     "ename": "KeyboardInterrupt",
     "evalue": "",
     "output_type": "error",
     "traceback": [
      "\u001b[0;31m---------------------------------------------------------------------------\u001b[0m",
      "\u001b[0;31mKeyboardInterrupt\u001b[0m                         Traceback (most recent call last)",
      "Input \u001b[0;32mIn [57]\u001b[0m, in \u001b[0;36m<cell line: 14>\u001b[0;34m()\u001b[0m\n\u001b[1;32m     20\u001b[0m P \u001b[38;5;241m=\u001b[39m read_pi(a)\n\u001b[1;32m     21\u001b[0m \u001b[38;5;66;03m# add time to run for naive algorithm\u001b[39;00m\n\u001b[0;32m---> 22\u001b[0m df\u001b[38;5;241m.\u001b[39mloc[a]\u001b[38;5;241m.\u001b[39mnaive \u001b[38;5;241m=\u001b[39m \u001b[43mmulti_poly\u001b[49m\u001b[43m(\u001b[49m\u001b[43mP\u001b[49m\u001b[43m,\u001b[49m\u001b[43mP\u001b[49m\u001b[43m)\u001b[49m[\u001b[38;5;241m1\u001b[39m]\n\u001b[1;32m     23\u001b[0m \u001b[38;5;66;03m# run karatsuba\u001b[39;00m\n\u001b[1;32m     24\u001b[0m karat_multi_poly(P,P)\n",
      "Input \u001b[0;32mIn [50]\u001b[0m, in \u001b[0;36mmulti_poly\u001b[0;34m(P, Q, run_time)\u001b[0m\n\u001b[1;32m     30\u001b[0m     \u001b[38;5;28;01mfor\u001b[39;00m i \u001b[38;5;129;01min\u001b[39;00m \u001b[38;5;28mrange\u001b[39m(\u001b[38;5;241m0\u001b[39m, k \u001b[38;5;241m+\u001b[39m \u001b[38;5;241m1\u001b[39m):\n\u001b[1;32m     31\u001b[0m         val \u001b[38;5;241m=\u001b[39m val \u001b[38;5;241m+\u001b[39m (P[i] \u001b[38;5;241m*\u001b[39m Q[k\u001b[38;5;241m-\u001b[39mi])\n\u001b[0;32m---> 32\u001b[0m         count_time \u001b[38;5;241m=\u001b[39m \u001b[43mcount_time\u001b[49m\u001b[43m \u001b[49m\u001b[38;5;241;43m+\u001b[39;49m\u001b[43m \u001b[49m\u001b[38;5;241;43m1\u001b[39;49m\n\u001b[1;32m     33\u001b[0m \u001b[38;5;28;01melse\u001b[39;00m:\n\u001b[1;32m     34\u001b[0m     val \u001b[38;5;241m=\u001b[39m \u001b[38;5;241m0\u001b[39m\n",
      "\u001b[0;31mKeyboardInterrupt\u001b[0m: "
     ]
    }
   ],
   "source": [
    "\n",
    "'''\n",
    "Create loop that goes iterates through numbers a 0 to 10000 with step of 100, \n",
    "Calculates time to run both algorithms for a numbers of pi, and stores each runtime \n",
    "in pandas dataframe\n",
    "''' \n",
    "\n",
    "\n",
    "import pandas as pd\n",
    "# name columns\n",
    "cols = ['naive', 'karatsuba']\n",
    "# create dataframe\n",
    "df = pd.DataFrame(columns=cols, index=range(0, 10001, 100))\n",
    "# loop through each value\n",
    "for a in range(0, 10001, 100):\n",
    "    # reset all global variables\n",
    "    first_run = True\n",
    "    count_time = 0\n",
    "    time_val =0\n",
    "    run_time = 0\n",
    "    P = read_pi(a)\n",
    "    # add time to run for naive algorithm\n",
    "    df.loc[a].naive = multi_poly(P,P)[1]\n",
    "    # run karatsuba\n",
    "    karat_multi_poly(P,P)\n",
    "    # add time to run for 'fast' algorithm\n",
    "    df.loc[a].karatsuba = run_time\n",
    "    \n",
    "\n",
    "### NEED TO DROP TOP COLUMN AND REPLACE WITH 1 INDEX AND VALUES?\n",
    "#plot the data against itself \n",
    "df.plot(title = 'Number \\'n\\' vs. Time Taken to Implement', xlabel= 'Number \\'n\\'', ylabel= 'Time (s)')\n"
   ]
  },
  {
   "cell_type": "markdown",
   "id": "389fcd31",
   "metadata": {},
   "source": [
    "# Acording to this diagram, Karatsuba \"beats\" the native algorithm at roughly n = ____"
   ]
  },
  {
   "cell_type": "markdown",
   "id": "b3801586",
   "metadata": {},
   "source": [
    "*(ii) Second, we measure time as “arithmetic operations”. Every time you add, subtract, or multiply two entries from some array (either P or Q or something called recursively), you increment a global counter. This way, at the end of the code, you will know how many such operations have been performed. Note that we are not counting incrementing indices, or comparing, or anything else in the running time. Concretely, if you multiply two degree 1 polynomials, say (1 + x) and (2 + 3x), then there are 5 arithmetic operations by both: four multiplications and one addition of 2x and 3x.*\n",
    "\n",
    "Now plot, as a function of n, n going from 1 to 1000 in jumps of 5, the “time” (in this new notion) taken by both naive and Karatsuba algorithms. As before, show these two curves overlaid on the same plot. "
   ]
  },
  {
   "cell_type": "code",
   "execution_count": null,
   "id": "418df2a1",
   "metadata": {},
   "outputs": [],
   "source": [
    "# probably going to need to reset it to zero each time to accurately caputre the \n",
    "# plot, as a function of n, \n",
    "# need to go through and feed examples of each array, then use those arrays\n",
    "\n",
    "\n",
    "import pandas as pd\n",
    "import numpy as np\n",
    "# name columns\n",
    "cols = ['naive', 'karatsuba']\n",
    "# create dataframe\n",
    "df2 = pd.DataFrame(columns=cols, index=range(0, 1001, 5))\n",
    "\n",
    "#need to loop through from 1 to 1000\n",
    "for a in range(0, 1001, 5):\n",
    "    first_run = True\n",
    "    count_time = 0\n",
    "    time_val =0\n",
    "    run_time = 0\n",
    "    #reset count time to zero\n",
    "    count_time = 0 \n",
    "    # read in a digits of pi\n",
    "    M = read_pi(a)\n",
    "    # add time to run for naive algorithm\n",
    "    df2.loc[a].naive = multi_poly(M,M)[2]\n",
    "    # run fast algorithm\n",
    "    karat_multi_poly(M,M)\n",
    "    # add count_time to the array\n",
    "    df2.loc[a].karatsuba = count_time\n",
    "\n",
    "# plot the data against itself\n",
    "df2.plot(title = 'Number \\'n\\' vs. Arithmetic Operations', xlabel= 'Number \\'n\\'', ylabel= 'Arithmetic Operations')\n"
   ]
  },
  {
   "cell_type": "markdown",
   "id": "c81c60ee",
   "metadata": {},
   "source": [
    "*At roughly what n does Karatsuba beat Naive (if at all)? (5 points)*\n",
    "\n",
    "My computer could not handle running the code.\n",
    "\n",
    "*Is there a discrepancy in the two n’s you get above? Can you explain this?*\n",
    "\n",
    "There is a discrepancy becasue the naive is faster for smaller numbers becuase Karatsuba's algorithm has addition and multiplication."
   ]
  },
  {
   "cell_type": "markdown",
   "id": "9a8db5bc",
   "metadata": {},
   "source": [
    "#### (iii) Write code which takes input a number C > 0, and returns a plot where the x-axis has integers 1 to 200 in increments of 1, and which overlays Karatsuba’s time in terms of number of arithmetic operations (as in part (ii)) with the curve y(n) := C · nlog2 3. "
   ]
  },
  {
   "cell_type": "code",
   "execution_count": 58,
   "id": "60cd7b0a",
   "metadata": {},
   "outputs": [],
   "source": [
    "# take as C input a real number\n",
    "# returns a \n",
    "\n",
    "import pandas as pd\n",
    "import numpy as np\n",
    "# name columns\n",
    "cols = ['karatsuba', 'logarithm']\n",
    "# create dataframe\n",
    "df3 = pd.DataFrame(columns=cols, index=range(1, 200, 1))\n",
    "\n",
    "def plot_compare(C):\n",
    "    # ensure that only takes input number C greater than or equal to 0\n",
    "    if C <= 0:\n",
    "        return\n",
    "    else:\n",
    "        for a in range(1, 200, 1):\n",
    "            #reset global variable count time to zero \n",
    "            count_time = 0\n",
    "            # read in a digits of pi\n",
    "            M = read_pi(a)\n",
    "            # add arithmetic operation time for karatsuba\n",
    "            # run karatsuba for that value\n",
    "            karat_multi_poly(M,M)\n",
    "            # add count_time to the array\n",
    "            df3.loc[a].karatsuba = count_time\n",
    "            df3.loc[a].logarithm = (C * a * math.log(3, 2))\n",
    "    df3.plot(title = 'Number \\'n\\' vs. Arithmetic Operations', xlabel= 'Number \\'n\\'', ylabel= 'Arithmetic Operations')\n"
   ]
  },
  {
   "cell_type": "markdown",
   "id": "c62ce3f1",
   "metadata": {},
   "source": [
    "*For what value of C, to the nearest integer, do you see the two curves “matching” (if at all)? That should give an idea of how big a constant is big-Oh hiding. (5 points)*\n",
    "\n",
    "My computer could not handle running the code. \n"
   ]
  },
  {
   "cell_type": "code",
   "execution_count": 61,
   "id": "2ca7a791",
   "metadata": {
    "scrolled": true
   },
   "outputs": [
    {
     "data": {
      "image/png": "[encoded data removed]",
      "text/plain": [
       "<Figure size 432x288 with 1 Axes>"
      ]
     },
     "metadata": {
      "needs_background": "light"
     },
     "output_type": "display_data"
    }
   ],
   "source": [
    "count_time = 0\n",
    "plot_compare(8)"
   ]
  },
  {
   "cell_type": "markdown",
   "id": "4877fae1",
   "metadata": {},
   "source": [
    "### Credit Statement: \n",
    "Partner Mia Dong. \n",
    "Discussion with Tucker Simpson, Charlie Baker, Will Kallikman, Sherry Liu."
   ]
  }
 ],
 "metadata": {
  "kernelspec": {
   "display_name": "Python 3 (ipykernel)",
   "language": "python",
   "name": "python3"
  },
  "language_info": {
   "codemirror_mode": {
    "name": "ipython",
    "version": 3
   },
   "file_extension": ".py",
   "mimetype": "text/x-python",
   "name": "python",
   "nbconvert_exporter": "python",
   "pygments_lexer": "ipython3",
   "version": "3.9.13"
  }
 },
 "nbformat": 4,
 "nbformat_minor": 5
}
