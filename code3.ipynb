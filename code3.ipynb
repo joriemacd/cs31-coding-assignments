{
 "cells": [
  {
   "cell_type": "markdown",
   "id": "84be50f4",
   "metadata": {},
   "source": [
    "### Problem 1. (20 points)\n",
    "Call a number n cube-summable if it can be expressed as a sum of distinct positive perfect cubes. So,\n",
    "the number 9 is cube-summable since 9 = 13 + 23, but the number 2 is not. In this coding assignment you have to find out how many cube-summable numbers are there between 1 and a million?\n"
   ]
  },
  {
   "cell_type": "markdown",
   "id": "d820cf3f",
   "metadata": {},
   "source": [
    "##### a. In your pdf file/iPython notebook, clearly write down how the above problem is a special case of the SUBSETSUM problem. So in particular, you have to write what the a1, a2, . . . , an’s are, how many (the n) of them there are, and what the target B is, which will allow you to answer this question. (5 points)"
   ]
  },
  {
   "cell_type": "markdown",
   "id": "0d796bfc",
   "metadata": {},
   "source": [
    "This is a special case of the subsetsum problem because we are trying to find all of the possible subsets that sum to less than 1 million. \n",
    "\n",
    "\n",
    "Our input will be the cube of positive integers 1, 2, ... 100. So, a1 = 1^3, a2 = 2^3, .... an = 100^3. There will be one hundered terms (n = 100) because 100^3 = 1,000,000, so no greater number can be added without us exceeding our sum. \n",
    "\n",
    "\n",
    "This differs from the original subsetsum problem because as opposed to there being one single target integer, our target all values less than 1 million. \n",
    "\n",
    "\n",
    "(In theory, we will modify the existing subset sum algorithm to check if it is less than B, and then increment a counter each time it is)."
   ]
  },
  {
   "cell_type": "markdown",
   "id": "f1a7b128",
   "metadata": {},
   "source": [
    "###### b. Implement the dynamic programming algorithm for SUBSETSUM problem, and use your above argu- ment to find the number of cube-summable numbers among the first million numbers (inclusive). (15 points)"
   ]
  },
  {
   "cell_type": "code",
   "execution_count": 97,
   "id": "f4183493",
   "metadata": {},
   "outputs": [
    {
     "name": "stdout",
     "output_type": "stream",
     "text": [
      "[1, 8, 27, 64, 125, 216, 343, 512, 729, 1000, 1331, 1728, 2197, 2744, 3375, 4096, 4913, 5832, 6859, 8000, 9261, 10648, 12167, 13824, 15625, 17576, 19683, 21952, 24389, 27000, 29791, 32768, 35937, 39304, 42875, 46656, 50653, 54872, 59319, 64000, 68921, 74088, 79507, 85184, 91125, 97336, 103823, 110592, 117649, 125000, 132651, 140608, 148877, 157464, 166375, 175616, 185193, 195112, 205379, 216000, 226981, 238328, 250047, 262144, 274625, 287496, 300763, 314432, 328509, 343000, 357911, 373248, 389017, 405224, 421875, 438976, 456533, 474552, 493039, 512000, 531441, 551368, 571787, 592704, 614125, 636056, 658503, 681472, 704969, 729000, 753571, 778688, 804357, 830584, 857375, 884736, 912673, 941192, 970299, 1000000]\n"
     ]
    }
   ],
   "source": [
    "'''\n",
    "PREPROCESSING:\n",
    "create array of cubes of integers from 1 to 100.\n",
    "'''\n",
    "\n",
    "# allocate space in empty array\n",
    "Array = [0] * 100\n",
    "# for all numbers i 1 to 100, find i^3.\n",
    "for i in range(0,100):\n",
    "    Array[i] = (i+1)*(i+1)*(i+1);\n",
    "print(Array)"
   ]
  },
  {
   "cell_type": "code",
   "execution_count": 5,
   "id": "a9532088",
   "metadata": {},
   "outputs": [],
   "source": [
    "# PROCEEDURE\n",
    "\n",
    "import numpy as np\n",
    "import math\n",
    "\n",
    "##### ASSUMPTION: this code assumes numbers composed of a single term cubed \n",
    "#### are n cube-summable (i.e. 27 is n-cube summable,  becuase 3^3 = 27.)\n",
    "\n",
    "''' \n",
    "input: array of cubes of positive integers 1 to 100\n",
    "output: number of possible subsets < 1,000,000\n",
    "'''\n",
    "def SubSetCount(A, B):\n",
    "    \n",
    "    # based on B, figure out how many terms are in input array\n",
    "    n = math.floor((B + 1)**(1/3))\n",
    "    F = np.zeros((n, B + 1))\n",
    "\n",
    "    # deal with basecases\n",
    "    for m in range(n):\n",
    "        F[m, 0] = 1\n",
    "\n",
    "    # count number where the value is being \n",
    "    for m in range (n):\n",
    "        for b in range (1, B + 1):\n",
    "            if (b - A[m] < 0):\n",
    "                F[m, b] = F[m - 1,b]\n",
    "            else:\n",
    "                F[m, b] = max(F[m -1, b], F[m -1, b - A[m]])\n",
    "    \n",
    "         \n",
    "               \n",
    "    # RECOVERY\n",
    "    # want to count the number of 1s on the bottom row, because those represent integers \n",
    "    # that can be reached by some combination of cubeable numbers. \n",
    "    # initialize variable to store number of possible integers to be reached\n",
    "    numPossible = 0\n",
    "    for i in range (B):\n",
    "        if (F[n-1, i] == 1):\n",
    "            numPossible = numPossible + 1\n",
    "    \n",
    "    return numPossible\n",
    "    \n",
    "    # these integers are all guaranteed to be 1,000,000 or less, because we are not checking\n",
    "    # if we can reach any sum greater than 1,000,000. \n"
   ]
  },
  {
   "cell_type": "code",
   "execution_count": 103,
   "id": "1fea0873",
   "metadata": {},
   "outputs": [
    {
     "data": {
      "text/plain": [
       "997212"
      ]
     },
     "execution_count": 103,
     "metadata": {},
     "output_type": "execute_result"
    }
   ],
   "source": [
    "SubSetCount(Array, 1000000)"
   ]
  },
  {
   "cell_type": "markdown",
   "id": "f9b2604b",
   "metadata": {},
   "source": [
    "###### Now that you have coded everything up, hopefully you can easily find the number of cube-summable numbers among the first half a million. Do you note something interesting? If you do, write this down as well."
   ]
  },
  {
   "cell_type": "code",
   "execution_count": 3,
   "id": "7ad0bee4",
   "metadata": {},
   "outputs": [
    {
     "name": "stdout",
     "output_type": "stream",
     "text": [
      "[1, 8, 27, 64, 125, 216, 343, 512, 729, 1000, 1331, 1728, 2197, 2744, 3375, 4096, 4913, 5832, 6859, 8000, 9261, 10648, 12167, 13824, 15625, 17576, 19683, 21952, 24389, 27000, 29791, 32768, 35937, 39304, 42875, 46656, 50653, 54872, 59319, 64000, 68921, 74088, 79507, 85184, 91125, 97336, 103823, 110592, 117649, 125000, 132651, 140608, 148877, 157464, 166375, 175616, 185193, 195112, 205379, 216000, 226981, 238328, 250047, 262144, 274625, 287496, 300763, 314432, 328509, 343000, 357911, 373248, 389017, 405224, 421875, 438976, 456533, 474552, 493039]\n"
     ]
    }
   ],
   "source": [
    "# allocate space in empty array\n",
    "Array2 = [0] * 79\n",
    "# for all numbers i 1 to 100, find i^3.\n",
    "for i in range(0,79):\n",
    "    Array2[i] = (i+1)*(i+1)*(i+1);\n",
    "print(Array2)"
   ]
  },
  {
   "cell_type": "code",
   "execution_count": 6,
   "id": "2a03561a",
   "metadata": {
    "scrolled": true
   },
   "outputs": [
    {
     "data": {
      "text/plain": [
       "497212"
      ]
     },
     "execution_count": 6,
     "metadata": {},
     "output_type": "execute_result"
    }
   ],
   "source": [
    "SubSetCount(Array2, 500000)"
   ]
  },
  {
   "cell_type": "markdown",
   "id": "e709f618",
   "metadata": {},
   "source": [
    "It is very close to half of the number of cube-summable numbers among a million. It is only ~1000 off. This is suprising considering how large the numbers are..."
   ]
  },
  {
   "cell_type": "markdown",
   "id": "92cba5c6",
   "metadata": {},
   "source": [
    "*********Curiously, if we graph it:"
   ]
  },
  {
   "cell_type": "markdown",
   "id": "c0a635bc",
   "metadata": {},
   "source": [
    "### Problem 2. (25 points)\n",
    "\n",
    "As in Coding Assignment 1, for a positve integer n, define An to be the array of single-digit non-negative\n",
    "integers containing the first n digits of π. So A1 = [3], A2 = [3, 1], and so on. You have to write code which takes input n and finds the length of the longest increasing subsequence in An.\n",
    "\n",
    "a. Implement the O(n2) time algorithm for LIS. Use this to return the length of an LIS of A10000, that is, the length of an LIS among the first 10,000 digits of π? Does this code return the length of an LIS of A1000000? If so, how long did it take? (15 points)\n",
    "\n",
    "b. Implement the O(n log n) time algorithm for LIS. Use this to return the length of an LIS of A1000000, that is, the length of an LIS among the first million digits of π? How long did this take? (10 points)"
   ]
  },
  {
   "cell_type": "code",
   "execution_count": 17,
   "id": "e052c355",
   "metadata": {
    "scrolled": true
   },
   "outputs": [
    {
     "data": {
      "text/html": [
       "<div>\n",
       "<style scoped>\n",
       "    .dataframe tbody tr th:only-of-type {\n",
       "        vertical-align: middle;\n",
       "    }\n",
       "\n",
       "    .dataframe tbody tr th {\n",
       "        vertical-align: top;\n",
       "    }\n",
       "\n",
       "    .dataframe thead th {\n",
       "        text-align: right;\n",
       "    }\n",
       "</style>\n",
       "<table border=\"1\" class=\"dataframe\">\n",
       "  <thead>\n",
       "    <tr style=\"text-align: right;\">\n",
       "      <th></th>\n",
       "      <th>limit</th>\n",
       "      <th>numberCubSummable</th>\n",
       "    </tr>\n",
       "  </thead>\n",
       "  <tbody>\n",
       "    <tr>\n",
       "      <th>1</th>\n",
       "      <td>NaN</td>\n",
       "      <td>NaN</td>\n",
       "    </tr>\n",
       "    <tr>\n",
       "      <th>2</th>\n",
       "      <td>NaN</td>\n",
       "      <td>NaN</td>\n",
       "    </tr>\n",
       "    <tr>\n",
       "      <th>3</th>\n",
       "      <td>NaN</td>\n",
       "      <td>NaN</td>\n",
       "    </tr>\n",
       "    <tr>\n",
       "      <th>4</th>\n",
       "      <td>NaN</td>\n",
       "      <td>NaN</td>\n",
       "    </tr>\n",
       "    <tr>\n",
       "      <th>5</th>\n",
       "      <td>NaN</td>\n",
       "      <td>NaN</td>\n",
       "    </tr>\n",
       "  </tbody>\n",
       "</table>\n",
       "</div>"
      ],
      "text/plain": [
       "  limit numberCubSummable\n",
       "1   NaN               NaN\n",
       "2   NaN               NaN\n",
       "3   NaN               NaN\n",
       "4   NaN               NaN\n",
       "5   NaN               NaN"
      ]
     },
     "execution_count": 17,
     "metadata": {},
     "output_type": "execute_result"
    }
   ],
   "source": [
    "import matplotlib\n",
    "import pandas as pd\n",
    "\n",
    "df = pd.DataFrame(columns=['limit', 'numberCubSummable'], index=range(1, 1000))\n",
    "\n",
    "df.head()\n",
    "for i in range (1, 10000, 1000):\n",
    "    df.limit[i] = i\n",
    "    df.numberCubeSummable[i] = SubSet\n"
   ]
  },
  {
   "cell_type": "code",
   "execution_count": 19,
   "id": "2b99ac27",
   "metadata": {},
   "outputs": [
    {
     "data": {
      "text/html": [
       "<div>\n",
       "<style scoped>\n",
       "    .dataframe tbody tr th:only-of-type {\n",
       "        vertical-align: middle;\n",
       "    }\n",
       "\n",
       "    .dataframe tbody tr th {\n",
       "        vertical-align: top;\n",
       "    }\n",
       "\n",
       "    .dataframe thead th {\n",
       "        text-align: right;\n",
       "    }\n",
       "</style>\n",
       "<table border=\"1\" class=\"dataframe\">\n",
       "  <thead>\n",
       "    <tr style=\"text-align: right;\">\n",
       "      <th></th>\n",
       "      <th>limit</th>\n",
       "      <th>numberCubSummable</th>\n",
       "    </tr>\n",
       "  </thead>\n",
       "  <tbody>\n",
       "    <tr>\n",
       "      <th>1</th>\n",
       "      <td>7</td>\n",
       "      <td>NaN</td>\n",
       "    </tr>\n",
       "    <tr>\n",
       "      <th>2</th>\n",
       "      <td>NaN</td>\n",
       "      <td>NaN</td>\n",
       "    </tr>\n",
       "    <tr>\n",
       "      <th>3</th>\n",
       "      <td>NaN</td>\n",
       "      <td>NaN</td>\n",
       "    </tr>\n",
       "    <tr>\n",
       "      <th>4</th>\n",
       "      <td>NaN</td>\n",
       "      <td>NaN</td>\n",
       "    </tr>\n",
       "    <tr>\n",
       "      <th>5</th>\n",
       "      <td>NaN</td>\n",
       "      <td>NaN</td>\n",
       "    </tr>\n",
       "  </tbody>\n",
       "</table>\n",
       "</div>"
      ],
      "text/plain": [
       "  limit numberCubSummable\n",
       "1     7               NaN\n",
       "2   NaN               NaN\n",
       "3   NaN               NaN\n",
       "4   NaN               NaN\n",
       "5   NaN               NaN"
      ]
     },
     "execution_count": 19,
     "metadata": {},
     "output_type": "execute_result"
    }
   ],
   "source": [
    "df.limit[1]= 7\n",
    "df.head()"
   ]
  },
  {
   "cell_type": "code",
   "execution_count": null,
   "id": "8f4ca021",
   "metadata": {},
   "outputs": [],
   "source": []
  }
 ],
 "metadata": {
  "kernelspec": {
   "display_name": "Python 3 (ipykernel)",
   "language": "python",
   "name": "python3"
  },
  "language_info": {
   "codemirror_mode": {
    "name": "ipython",
    "version": 3
   },
   "file_extension": ".py",
   "mimetype": "text/x-python",
   "name": "python",
   "nbconvert_exporter": "python",
   "pygments_lexer": "ipython3",
   "version": "3.9.13"
  }
 },
 "nbformat": 4,
 "nbformat_minor": 5
}
